{
  "nbformat": 4,
  "nbformat_minor": 0,
  "metadata": {
    "colab": {
      "provenance": [],
      "collapsed_sections": [
        "HtutUrhhWI68",
        "337LxaeLWRUt",
        "9cgcNVP7WbiE",
        "Xkiu7W5iV5X4",
        "aTOoMWHuXrsd",
        "birkzJxxdoOi",
        "3CnL3kxVfS6U"
      ]
    },
    "kernelspec": {
      "name": "python3",
      "display_name": "Python 3"
    },
    "language_info": {
      "name": "python"
    },
    "widgets": {
      "application/vnd.jupyter.widget-state+json": {
        "58327f52dd684cd7a65d704c4becb41a": {
          "model_module": "@jupyter-widgets/controls",
          "model_name": "HBoxModel",
          "model_module_version": "1.5.0",
          "state": {
            "_dom_classes": [],
            "_model_module": "@jupyter-widgets/controls",
            "_model_module_version": "1.5.0",
            "_model_name": "HBoxModel",
            "_view_count": null,
            "_view_module": "@jupyter-widgets/controls",
            "_view_module_version": "1.5.0",
            "_view_name": "HBoxView",
            "box_style": "",
            "children": [
              "IPY_MODEL_2974cda9ff9e46a9925f60d3e03c1382",
              "IPY_MODEL_139cd356b28841b5a419cbb39a8ad4be",
              "IPY_MODEL_b1d6e8dc3a6e496994ad5946ce630539"
            ],
            "layout": "IPY_MODEL_4f982a9b2a4b443285e5b8f58234cbc7"
          }
        },
        "2974cda9ff9e46a9925f60d3e03c1382": {
          "model_module": "@jupyter-widgets/controls",
          "model_name": "HTMLModel",
          "model_module_version": "1.5.0",
          "state": {
            "_dom_classes": [],
            "_model_module": "@jupyter-widgets/controls",
            "_model_module_version": "1.5.0",
            "_model_name": "HTMLModel",
            "_view_count": null,
            "_view_module": "@jupyter-widgets/controls",
            "_view_module_version": "1.5.0",
            "_view_name": "HTMLView",
            "description": "",
            "description_tooltip": null,
            "layout": "IPY_MODEL_42e560bdd6114351a23982b885930765",
            "placeholder": "​",
            "style": "IPY_MODEL_d303ffc3a6c44eadaadb5189ed2955dd",
            "value": "modules.json: 100%"
          }
        },
        "139cd356b28841b5a419cbb39a8ad4be": {
          "model_module": "@jupyter-widgets/controls",
          "model_name": "FloatProgressModel",
          "model_module_version": "1.5.0",
          "state": {
            "_dom_classes": [],
            "_model_module": "@jupyter-widgets/controls",
            "_model_module_version": "1.5.0",
            "_model_name": "FloatProgressModel",
            "_view_count": null,
            "_view_module": "@jupyter-widgets/controls",
            "_view_module_version": "1.5.0",
            "_view_name": "ProgressView",
            "bar_style": "success",
            "description": "",
            "description_tooltip": null,
            "layout": "IPY_MODEL_2ccc6a20c743420f843629b212c7d806",
            "max": 349,
            "min": 0,
            "orientation": "horizontal",
            "style": "IPY_MODEL_696fbc0fa44d4f8c81f3555ee60317ef",
            "value": 349
          }
        },
        "b1d6e8dc3a6e496994ad5946ce630539": {
          "model_module": "@jupyter-widgets/controls",
          "model_name": "HTMLModel",
          "model_module_version": "1.5.0",
          "state": {
            "_dom_classes": [],
            "_model_module": "@jupyter-widgets/controls",
            "_model_module_version": "1.5.0",
            "_model_name": "HTMLModel",
            "_view_count": null,
            "_view_module": "@jupyter-widgets/controls",
            "_view_module_version": "1.5.0",
            "_view_name": "HTMLView",
            "description": "",
            "description_tooltip": null,
            "layout": "IPY_MODEL_26082623851540939411d872cc16289e",
            "placeholder": "​",
            "style": "IPY_MODEL_c7fbe8ed1c28423fb09d637593531fab",
            "value": " 349/349 [00:00&lt;00:00, 12.6kB/s]"
          }
        },
        "4f982a9b2a4b443285e5b8f58234cbc7": {
          "model_module": "@jupyter-widgets/base",
          "model_name": "LayoutModel",
          "model_module_version": "1.2.0",
          "state": {
            "_model_module": "@jupyter-widgets/base",
            "_model_module_version": "1.2.0",
            "_model_name": "LayoutModel",
            "_view_count": null,
            "_view_module": "@jupyter-widgets/base",
            "_view_module_version": "1.2.0",
            "_view_name": "LayoutView",
            "align_content": null,
            "align_items": null,
            "align_self": null,
            "border": null,
            "bottom": null,
            "display": null,
            "flex": null,
            "flex_flow": null,
            "grid_area": null,
            "grid_auto_columns": null,
            "grid_auto_flow": null,
            "grid_auto_rows": null,
            "grid_column": null,
            "grid_gap": null,
            "grid_row": null,
            "grid_template_areas": null,
            "grid_template_columns": null,
            "grid_template_rows": null,
            "height": null,
            "justify_content": null,
            "justify_items": null,
            "left": null,
            "margin": null,
            "max_height": null,
            "max_width": null,
            "min_height": null,
            "min_width": null,
            "object_fit": null,
            "object_position": null,
            "order": null,
            "overflow": null,
            "overflow_x": null,
            "overflow_y": null,
            "padding": null,
            "right": null,
            "top": null,
            "visibility": null,
            "width": null
          }
        },
        "42e560bdd6114351a23982b885930765": {
          "model_module": "@jupyter-widgets/base",
          "model_name": "LayoutModel",
          "model_module_version": "1.2.0",
          "state": {
            "_model_module": "@jupyter-widgets/base",
            "_model_module_version": "1.2.0",
            "_model_name": "LayoutModel",
            "_view_count": null,
            "_view_module": "@jupyter-widgets/base",
            "_view_module_version": "1.2.0",
            "_view_name": "LayoutView",
            "align_content": null,
            "align_items": null,
            "align_self": null,
            "border": null,
            "bottom": null,
            "display": null,
            "flex": null,
            "flex_flow": null,
            "grid_area": null,
            "grid_auto_columns": null,
            "grid_auto_flow": null,
            "grid_auto_rows": null,
            "grid_column": null,
            "grid_gap": null,
            "grid_row": null,
            "grid_template_areas": null,
            "grid_template_columns": null,
            "grid_template_rows": null,
            "height": null,
            "justify_content": null,
            "justify_items": null,
            "left": null,
            "margin": null,
            "max_height": null,
            "max_width": null,
            "min_height": null,
            "min_width": null,
            "object_fit": null,
            "object_position": null,
            "order": null,
            "overflow": null,
            "overflow_x": null,
            "overflow_y": null,
            "padding": null,
            "right": null,
            "top": null,
            "visibility": null,
            "width": null
          }
        },
        "d303ffc3a6c44eadaadb5189ed2955dd": {
          "model_module": "@jupyter-widgets/controls",
          "model_name": "DescriptionStyleModel",
          "model_module_version": "1.5.0",
          "state": {
            "_model_module": "@jupyter-widgets/controls",
            "_model_module_version": "1.5.0",
            "_model_name": "DescriptionStyleModel",
            "_view_count": null,
            "_view_module": "@jupyter-widgets/base",
            "_view_module_version": "1.2.0",
            "_view_name": "StyleView",
            "description_width": ""
          }
        },
        "2ccc6a20c743420f843629b212c7d806": {
          "model_module": "@jupyter-widgets/base",
          "model_name": "LayoutModel",
          "model_module_version": "1.2.0",
          "state": {
            "_model_module": "@jupyter-widgets/base",
            "_model_module_version": "1.2.0",
            "_model_name": "LayoutModel",
            "_view_count": null,
            "_view_module": "@jupyter-widgets/base",
            "_view_module_version": "1.2.0",
            "_view_name": "LayoutView",
            "align_content": null,
            "align_items": null,
            "align_self": null,
            "border": null,
            "bottom": null,
            "display": null,
            "flex": null,
            "flex_flow": null,
            "grid_area": null,
            "grid_auto_columns": null,
            "grid_auto_flow": null,
            "grid_auto_rows": null,
            "grid_column": null,
            "grid_gap": null,
            "grid_row": null,
            "grid_template_areas": null,
            "grid_template_columns": null,
            "grid_template_rows": null,
            "height": null,
            "justify_content": null,
            "justify_items": null,
            "left": null,
            "margin": null,
            "max_height": null,
            "max_width": null,
            "min_height": null,
            "min_width": null,
            "object_fit": null,
            "object_position": null,
            "order": null,
            "overflow": null,
            "overflow_x": null,
            "overflow_y": null,
            "padding": null,
            "right": null,
            "top": null,
            "visibility": null,
            "width": null
          }
        },
        "696fbc0fa44d4f8c81f3555ee60317ef": {
          "model_module": "@jupyter-widgets/controls",
          "model_name": "ProgressStyleModel",
          "model_module_version": "1.5.0",
          "state": {
            "_model_module": "@jupyter-widgets/controls",
            "_model_module_version": "1.5.0",
            "_model_name": "ProgressStyleModel",
            "_view_count": null,
            "_view_module": "@jupyter-widgets/base",
            "_view_module_version": "1.2.0",
            "_view_name": "StyleView",
            "bar_color": null,
            "description_width": ""
          }
        },
        "26082623851540939411d872cc16289e": {
          "model_module": "@jupyter-widgets/base",
          "model_name": "LayoutModel",
          "model_module_version": "1.2.0",
          "state": {
            "_model_module": "@jupyter-widgets/base",
            "_model_module_version": "1.2.0",
            "_model_name": "LayoutModel",
            "_view_count": null,
            "_view_module": "@jupyter-widgets/base",
            "_view_module_version": "1.2.0",
            "_view_name": "LayoutView",
            "align_content": null,
            "align_items": null,
            "align_self": null,
            "border": null,
            "bottom": null,
            "display": null,
            "flex": null,
            "flex_flow": null,
            "grid_area": null,
            "grid_auto_columns": null,
            "grid_auto_flow": null,
            "grid_auto_rows": null,
            "grid_column": null,
            "grid_gap": null,
            "grid_row": null,
            "grid_template_areas": null,
            "grid_template_columns": null,
            "grid_template_rows": null,
            "height": null,
            "justify_content": null,
            "justify_items": null,
            "left": null,
            "margin": null,
            "max_height": null,
            "max_width": null,
            "min_height": null,
            "min_width": null,
            "object_fit": null,
            "object_position": null,
            "order": null,
            "overflow": null,
            "overflow_x": null,
            "overflow_y": null,
            "padding": null,
            "right": null,
            "top": null,
            "visibility": null,
            "width": null
          }
        },
        "c7fbe8ed1c28423fb09d637593531fab": {
          "model_module": "@jupyter-widgets/controls",
          "model_name": "DescriptionStyleModel",
          "model_module_version": "1.5.0",
          "state": {
            "_model_module": "@jupyter-widgets/controls",
            "_model_module_version": "1.5.0",
            "_model_name": "DescriptionStyleModel",
            "_view_count": null,
            "_view_module": "@jupyter-widgets/base",
            "_view_module_version": "1.2.0",
            "_view_name": "StyleView",
            "description_width": ""
          }
        },
        "22bd76beba654780a12ced5f35920de8": {
          "model_module": "@jupyter-widgets/controls",
          "model_name": "HBoxModel",
          "model_module_version": "1.5.0",
          "state": {
            "_dom_classes": [],
            "_model_module": "@jupyter-widgets/controls",
            "_model_module_version": "1.5.0",
            "_model_name": "HBoxModel",
            "_view_count": null,
            "_view_module": "@jupyter-widgets/controls",
            "_view_module_version": "1.5.0",
            "_view_name": "HBoxView",
            "box_style": "",
            "children": [
              "IPY_MODEL_19f5d0220de34fb4aa63244976817b15",
              "IPY_MODEL_18a339e75ab240c7b2282af593f54ddb",
              "IPY_MODEL_6ed41737638b4f5d99ed339ac21a36ec"
            ],
            "layout": "IPY_MODEL_1b447ab7a068462daf577b545900597f"
          }
        },
        "19f5d0220de34fb4aa63244976817b15": {
          "model_module": "@jupyter-widgets/controls",
          "model_name": "HTMLModel",
          "model_module_version": "1.5.0",
          "state": {
            "_dom_classes": [],
            "_model_module": "@jupyter-widgets/controls",
            "_model_module_version": "1.5.0",
            "_model_name": "HTMLModel",
            "_view_count": null,
            "_view_module": "@jupyter-widgets/controls",
            "_view_module_version": "1.5.0",
            "_view_name": "HTMLView",
            "description": "",
            "description_tooltip": null,
            "layout": "IPY_MODEL_d7f3ee1a683847be82202656bca5a57a",
            "placeholder": "​",
            "style": "IPY_MODEL_871300f21ae8410aa651b405a8d0fd08",
            "value": "config_sentence_transformers.json: 100%"
          }
        },
        "18a339e75ab240c7b2282af593f54ddb": {
          "model_module": "@jupyter-widgets/controls",
          "model_name": "FloatProgressModel",
          "model_module_version": "1.5.0",
          "state": {
            "_dom_classes": [],
            "_model_module": "@jupyter-widgets/controls",
            "_model_module_version": "1.5.0",
            "_model_name": "FloatProgressModel",
            "_view_count": null,
            "_view_module": "@jupyter-widgets/controls",
            "_view_module_version": "1.5.0",
            "_view_name": "ProgressView",
            "bar_style": "success",
            "description": "",
            "description_tooltip": null,
            "layout": "IPY_MODEL_9b67874fcb874cff86c1bf6f63a03c8c",
            "max": 116,
            "min": 0,
            "orientation": "horizontal",
            "style": "IPY_MODEL_74b8e966513742dca8d72a5129559bc4",
            "value": 116
          }
        },
        "6ed41737638b4f5d99ed339ac21a36ec": {
          "model_module": "@jupyter-widgets/controls",
          "model_name": "HTMLModel",
          "model_module_version": "1.5.0",
          "state": {
            "_dom_classes": [],
            "_model_module": "@jupyter-widgets/controls",
            "_model_module_version": "1.5.0",
            "_model_name": "HTMLModel",
            "_view_count": null,
            "_view_module": "@jupyter-widgets/controls",
            "_view_module_version": "1.5.0",
            "_view_name": "HTMLView",
            "description": "",
            "description_tooltip": null,
            "layout": "IPY_MODEL_5a5520597e1c4e9aa14862f1b8b6292c",
            "placeholder": "​",
            "style": "IPY_MODEL_98ba34af25624eef9ad665df078776a0",
            "value": " 116/116 [00:00&lt;00:00, 7.15kB/s]"
          }
        },
        "1b447ab7a068462daf577b545900597f": {
          "model_module": "@jupyter-widgets/base",
          "model_name": "LayoutModel",
          "model_module_version": "1.2.0",
          "state": {
            "_model_module": "@jupyter-widgets/base",
            "_model_module_version": "1.2.0",
            "_model_name": "LayoutModel",
            "_view_count": null,
            "_view_module": "@jupyter-widgets/base",
            "_view_module_version": "1.2.0",
            "_view_name": "LayoutView",
            "align_content": null,
            "align_items": null,
            "align_self": null,
            "border": null,
            "bottom": null,
            "display": null,
            "flex": null,
            "flex_flow": null,
            "grid_area": null,
            "grid_auto_columns": null,
            "grid_auto_flow": null,
            "grid_auto_rows": null,
            "grid_column": null,
            "grid_gap": null,
            "grid_row": null,
            "grid_template_areas": null,
            "grid_template_columns": null,
            "grid_template_rows": null,
            "height": null,
            "justify_content": null,
            "justify_items": null,
            "left": null,
            "margin": null,
            "max_height": null,
            "max_width": null,
            "min_height": null,
            "min_width": null,
            "object_fit": null,
            "object_position": null,
            "order": null,
            "overflow": null,
            "overflow_x": null,
            "overflow_y": null,
            "padding": null,
            "right": null,
            "top": null,
            "visibility": null,
            "width": null
          }
        },
        "d7f3ee1a683847be82202656bca5a57a": {
          "model_module": "@jupyter-widgets/base",
          "model_name": "LayoutModel",
          "model_module_version": "1.2.0",
          "state": {
            "_model_module": "@jupyter-widgets/base",
            "_model_module_version": "1.2.0",
            "_model_name": "LayoutModel",
            "_view_count": null,
            "_view_module": "@jupyter-widgets/base",
            "_view_module_version": "1.2.0",
            "_view_name": "LayoutView",
            "align_content": null,
            "align_items": null,
            "align_self": null,
            "border": null,
            "bottom": null,
            "display": null,
            "flex": null,
            "flex_flow": null,
            "grid_area": null,
            "grid_auto_columns": null,
            "grid_auto_flow": null,
            "grid_auto_rows": null,
            "grid_column": null,
            "grid_gap": null,
            "grid_row": null,
            "grid_template_areas": null,
            "grid_template_columns": null,
            "grid_template_rows": null,
            "height": null,
            "justify_content": null,
            "justify_items": null,
            "left": null,
            "margin": null,
            "max_height": null,
            "max_width": null,
            "min_height": null,
            "min_width": null,
            "object_fit": null,
            "object_position": null,
            "order": null,
            "overflow": null,
            "overflow_x": null,
            "overflow_y": null,
            "padding": null,
            "right": null,
            "top": null,
            "visibility": null,
            "width": null
          }
        },
        "871300f21ae8410aa651b405a8d0fd08": {
          "model_module": "@jupyter-widgets/controls",
          "model_name": "DescriptionStyleModel",
          "model_module_version": "1.5.0",
          "state": {
            "_model_module": "@jupyter-widgets/controls",
            "_model_module_version": "1.5.0",
            "_model_name": "DescriptionStyleModel",
            "_view_count": null,
            "_view_module": "@jupyter-widgets/base",
            "_view_module_version": "1.2.0",
            "_view_name": "StyleView",
            "description_width": ""
          }
        },
        "9b67874fcb874cff86c1bf6f63a03c8c": {
          "model_module": "@jupyter-widgets/base",
          "model_name": "LayoutModel",
          "model_module_version": "1.2.0",
          "state": {
            "_model_module": "@jupyter-widgets/base",
            "_model_module_version": "1.2.0",
            "_model_name": "LayoutModel",
            "_view_count": null,
            "_view_module": "@jupyter-widgets/base",
            "_view_module_version": "1.2.0",
            "_view_name": "LayoutView",
            "align_content": null,
            "align_items": null,
            "align_self": null,
            "border": null,
            "bottom": null,
            "display": null,
            "flex": null,
            "flex_flow": null,
            "grid_area": null,
            "grid_auto_columns": null,
            "grid_auto_flow": null,
            "grid_auto_rows": null,
            "grid_column": null,
            "grid_gap": null,
            "grid_row": null,
            "grid_template_areas": null,
            "grid_template_columns": null,
            "grid_template_rows": null,
            "height": null,
            "justify_content": null,
            "justify_items": null,
            "left": null,
            "margin": null,
            "max_height": null,
            "max_width": null,
            "min_height": null,
            "min_width": null,
            "object_fit": null,
            "object_position": null,
            "order": null,
            "overflow": null,
            "overflow_x": null,
            "overflow_y": null,
            "padding": null,
            "right": null,
            "top": null,
            "visibility": null,
            "width": null
          }
        },
        "74b8e966513742dca8d72a5129559bc4": {
          "model_module": "@jupyter-widgets/controls",
          "model_name": "ProgressStyleModel",
          "model_module_version": "1.5.0",
          "state": {
            "_model_module": "@jupyter-widgets/controls",
            "_model_module_version": "1.5.0",
            "_model_name": "ProgressStyleModel",
            "_view_count": null,
            "_view_module": "@jupyter-widgets/base",
            "_view_module_version": "1.2.0",
            "_view_name": "StyleView",
            "bar_color": null,
            "description_width": ""
          }
        },
        "5a5520597e1c4e9aa14862f1b8b6292c": {
          "model_module": "@jupyter-widgets/base",
          "model_name": "LayoutModel",
          "model_module_version": "1.2.0",
          "state": {
            "_model_module": "@jupyter-widgets/base",
            "_model_module_version": "1.2.0",
            "_model_name": "LayoutModel",
            "_view_count": null,
            "_view_module": "@jupyter-widgets/base",
            "_view_module_version": "1.2.0",
            "_view_name": "LayoutView",
            "align_content": null,
            "align_items": null,
            "align_self": null,
            "border": null,
            "bottom": null,
            "display": null,
            "flex": null,
            "flex_flow": null,
            "grid_area": null,
            "grid_auto_columns": null,
            "grid_auto_flow": null,
            "grid_auto_rows": null,
            "grid_column": null,
            "grid_gap": null,
            "grid_row": null,
            "grid_template_areas": null,
            "grid_template_columns": null,
            "grid_template_rows": null,
            "height": null,
            "justify_content": null,
            "justify_items": null,
            "left": null,
            "margin": null,
            "max_height": null,
            "max_width": null,
            "min_height": null,
            "min_width": null,
            "object_fit": null,
            "object_position": null,
            "order": null,
            "overflow": null,
            "overflow_x": null,
            "overflow_y": null,
            "padding": null,
            "right": null,
            "top": null,
            "visibility": null,
            "width": null
          }
        },
        "98ba34af25624eef9ad665df078776a0": {
          "model_module": "@jupyter-widgets/controls",
          "model_name": "DescriptionStyleModel",
          "model_module_version": "1.5.0",
          "state": {
            "_model_module": "@jupyter-widgets/controls",
            "_model_module_version": "1.5.0",
            "_model_name": "DescriptionStyleModel",
            "_view_count": null,
            "_view_module": "@jupyter-widgets/base",
            "_view_module_version": "1.2.0",
            "_view_name": "StyleView",
            "description_width": ""
          }
        },
        "cbae259e93aa4dc0b9d7dfccf00bbe76": {
          "model_module": "@jupyter-widgets/controls",
          "model_name": "HBoxModel",
          "model_module_version": "1.5.0",
          "state": {
            "_dom_classes": [],
            "_model_module": "@jupyter-widgets/controls",
            "_model_module_version": "1.5.0",
            "_model_name": "HBoxModel",
            "_view_count": null,
            "_view_module": "@jupyter-widgets/controls",
            "_view_module_version": "1.5.0",
            "_view_name": "HBoxView",
            "box_style": "",
            "children": [
              "IPY_MODEL_82fb363187a741828796c91039fea451",
              "IPY_MODEL_68d695eaa3e44302b83b2d3b3bb6a283",
              "IPY_MODEL_32c9f5ec674f4ef683ce38754323210d"
            ],
            "layout": "IPY_MODEL_1b8f4b9a0776470cab943434558bb7ca"
          }
        },
        "82fb363187a741828796c91039fea451": {
          "model_module": "@jupyter-widgets/controls",
          "model_name": "HTMLModel",
          "model_module_version": "1.5.0",
          "state": {
            "_dom_classes": [],
            "_model_module": "@jupyter-widgets/controls",
            "_model_module_version": "1.5.0",
            "_model_name": "HTMLModel",
            "_view_count": null,
            "_view_module": "@jupyter-widgets/controls",
            "_view_module_version": "1.5.0",
            "_view_name": "HTMLView",
            "description": "",
            "description_tooltip": null,
            "layout": "IPY_MODEL_236c8fc479104c329ccf8c069711667f",
            "placeholder": "​",
            "style": "IPY_MODEL_c03275c1e6fa4e22b8e542145fba7c9b",
            "value": "README.md: 100%"
          }
        },
        "68d695eaa3e44302b83b2d3b3bb6a283": {
          "model_module": "@jupyter-widgets/controls",
          "model_name": "FloatProgressModel",
          "model_module_version": "1.5.0",
          "state": {
            "_dom_classes": [],
            "_model_module": "@jupyter-widgets/controls",
            "_model_module_version": "1.5.0",
            "_model_name": "FloatProgressModel",
            "_view_count": null,
            "_view_module": "@jupyter-widgets/controls",
            "_view_module_version": "1.5.0",
            "_view_name": "ProgressView",
            "bar_style": "success",
            "description": "",
            "description_tooltip": null,
            "layout": "IPY_MODEL_e2286c69502a4275b19cc4efbd4e4ff4",
            "max": 10659,
            "min": 0,
            "orientation": "horizontal",
            "style": "IPY_MODEL_1fe6099b7c444a75889af9077c4dd887",
            "value": 10659
          }
        },
        "32c9f5ec674f4ef683ce38754323210d": {
          "model_module": "@jupyter-widgets/controls",
          "model_name": "HTMLModel",
          "model_module_version": "1.5.0",
          "state": {
            "_dom_classes": [],
            "_model_module": "@jupyter-widgets/controls",
            "_model_module_version": "1.5.0",
            "_model_name": "HTMLModel",
            "_view_count": null,
            "_view_module": "@jupyter-widgets/controls",
            "_view_module_version": "1.5.0",
            "_view_name": "HTMLView",
            "description": "",
            "description_tooltip": null,
            "layout": "IPY_MODEL_d71cf334bfcc4177a83ff73ea96c3334",
            "placeholder": "​",
            "style": "IPY_MODEL_db846330dc5d44209c7cf2efeb2c95e3",
            "value": " 10.7k/10.7k [00:00&lt;00:00, 688kB/s]"
          }
        },
        "1b8f4b9a0776470cab943434558bb7ca": {
          "model_module": "@jupyter-widgets/base",
          "model_name": "LayoutModel",
          "model_module_version": "1.2.0",
          "state": {
            "_model_module": "@jupyter-widgets/base",
            "_model_module_version": "1.2.0",
            "_model_name": "LayoutModel",
            "_view_count": null,
            "_view_module": "@jupyter-widgets/base",
            "_view_module_version": "1.2.0",
            "_view_name": "LayoutView",
            "align_content": null,
            "align_items": null,
            "align_self": null,
            "border": null,
            "bottom": null,
            "display": null,
            "flex": null,
            "flex_flow": null,
            "grid_area": null,
            "grid_auto_columns": null,
            "grid_auto_flow": null,
            "grid_auto_rows": null,
            "grid_column": null,
            "grid_gap": null,
            "grid_row": null,
            "grid_template_areas": null,
            "grid_template_columns": null,
            "grid_template_rows": null,
            "height": null,
            "justify_content": null,
            "justify_items": null,
            "left": null,
            "margin": null,
            "max_height": null,
            "max_width": null,
            "min_height": null,
            "min_width": null,
            "object_fit": null,
            "object_position": null,
            "order": null,
            "overflow": null,
            "overflow_x": null,
            "overflow_y": null,
            "padding": null,
            "right": null,
            "top": null,
            "visibility": null,
            "width": null
          }
        },
        "236c8fc479104c329ccf8c069711667f": {
          "model_module": "@jupyter-widgets/base",
          "model_name": "LayoutModel",
          "model_module_version": "1.2.0",
          "state": {
            "_model_module": "@jupyter-widgets/base",
            "_model_module_version": "1.2.0",
            "_model_name": "LayoutModel",
            "_view_count": null,
            "_view_module": "@jupyter-widgets/base",
            "_view_module_version": "1.2.0",
            "_view_name": "LayoutView",
            "align_content": null,
            "align_items": null,
            "align_self": null,
            "border": null,
            "bottom": null,
            "display": null,
            "flex": null,
            "flex_flow": null,
            "grid_area": null,
            "grid_auto_columns": null,
            "grid_auto_flow": null,
            "grid_auto_rows": null,
            "grid_column": null,
            "grid_gap": null,
            "grid_row": null,
            "grid_template_areas": null,
            "grid_template_columns": null,
            "grid_template_rows": null,
            "height": null,
            "justify_content": null,
            "justify_items": null,
            "left": null,
            "margin": null,
            "max_height": null,
            "max_width": null,
            "min_height": null,
            "min_width": null,
            "object_fit": null,
            "object_position": null,
            "order": null,
            "overflow": null,
            "overflow_x": null,
            "overflow_y": null,
            "padding": null,
            "right": null,
            "top": null,
            "visibility": null,
            "width": null
          }
        },
        "c03275c1e6fa4e22b8e542145fba7c9b": {
          "model_module": "@jupyter-widgets/controls",
          "model_name": "DescriptionStyleModel",
          "model_module_version": "1.5.0",
          "state": {
            "_model_module": "@jupyter-widgets/controls",
            "_model_module_version": "1.5.0",
            "_model_name": "DescriptionStyleModel",
            "_view_count": null,
            "_view_module": "@jupyter-widgets/base",
            "_view_module_version": "1.2.0",
            "_view_name": "StyleView",
            "description_width": ""
          }
        },
        "e2286c69502a4275b19cc4efbd4e4ff4": {
          "model_module": "@jupyter-widgets/base",
          "model_name": "LayoutModel",
          "model_module_version": "1.2.0",
          "state": {
            "_model_module": "@jupyter-widgets/base",
            "_model_module_version": "1.2.0",
            "_model_name": "LayoutModel",
            "_view_count": null,
            "_view_module": "@jupyter-widgets/base",
            "_view_module_version": "1.2.0",
            "_view_name": "LayoutView",
            "align_content": null,
            "align_items": null,
            "align_self": null,
            "border": null,
            "bottom": null,
            "display": null,
            "flex": null,
            "flex_flow": null,
            "grid_area": null,
            "grid_auto_columns": null,
            "grid_auto_flow": null,
            "grid_auto_rows": null,
            "grid_column": null,
            "grid_gap": null,
            "grid_row": null,
            "grid_template_areas": null,
            "grid_template_columns": null,
            "grid_template_rows": null,
            "height": null,
            "justify_content": null,
            "justify_items": null,
            "left": null,
            "margin": null,
            "max_height": null,
            "max_width": null,
            "min_height": null,
            "min_width": null,
            "object_fit": null,
            "object_position": null,
            "order": null,
            "overflow": null,
            "overflow_x": null,
            "overflow_y": null,
            "padding": null,
            "right": null,
            "top": null,
            "visibility": null,
            "width": null
          }
        },
        "1fe6099b7c444a75889af9077c4dd887": {
          "model_module": "@jupyter-widgets/controls",
          "model_name": "ProgressStyleModel",
          "model_module_version": "1.5.0",
          "state": {
            "_model_module": "@jupyter-widgets/controls",
            "_model_module_version": "1.5.0",
            "_model_name": "ProgressStyleModel",
            "_view_count": null,
            "_view_module": "@jupyter-widgets/base",
            "_view_module_version": "1.2.0",
            "_view_name": "StyleView",
            "bar_color": null,
            "description_width": ""
          }
        },
        "d71cf334bfcc4177a83ff73ea96c3334": {
          "model_module": "@jupyter-widgets/base",
          "model_name": "LayoutModel",
          "model_module_version": "1.2.0",
          "state": {
            "_model_module": "@jupyter-widgets/base",
            "_model_module_version": "1.2.0",
            "_model_name": "LayoutModel",
            "_view_count": null,
            "_view_module": "@jupyter-widgets/base",
            "_view_module_version": "1.2.0",
            "_view_name": "LayoutView",
            "align_content": null,
            "align_items": null,
            "align_self": null,
            "border": null,
            "bottom": null,
            "display": null,
            "flex": null,
            "flex_flow": null,
            "grid_area": null,
            "grid_auto_columns": null,
            "grid_auto_flow": null,
            "grid_auto_rows": null,
            "grid_column": null,
            "grid_gap": null,
            "grid_row": null,
            "grid_template_areas": null,
            "grid_template_columns": null,
            "grid_template_rows": null,
            "height": null,
            "justify_content": null,
            "justify_items": null,
            "left": null,
            "margin": null,
            "max_height": null,
            "max_width": null,
            "min_height": null,
            "min_width": null,
            "object_fit": null,
            "object_position": null,
            "order": null,
            "overflow": null,
            "overflow_x": null,
            "overflow_y": null,
            "padding": null,
            "right": null,
            "top": null,
            "visibility": null,
            "width": null
          }
        },
        "db846330dc5d44209c7cf2efeb2c95e3": {
          "model_module": "@jupyter-widgets/controls",
          "model_name": "DescriptionStyleModel",
          "model_module_version": "1.5.0",
          "state": {
            "_model_module": "@jupyter-widgets/controls",
            "_model_module_version": "1.5.0",
            "_model_name": "DescriptionStyleModel",
            "_view_count": null,
            "_view_module": "@jupyter-widgets/base",
            "_view_module_version": "1.2.0",
            "_view_name": "StyleView",
            "description_width": ""
          }
        },
        "7c40fae776994850bbb9ee270d40dbfe": {
          "model_module": "@jupyter-widgets/controls",
          "model_name": "HBoxModel",
          "model_module_version": "1.5.0",
          "state": {
            "_dom_classes": [],
            "_model_module": "@jupyter-widgets/controls",
            "_model_module_version": "1.5.0",
            "_model_name": "HBoxModel",
            "_view_count": null,
            "_view_module": "@jupyter-widgets/controls",
            "_view_module_version": "1.5.0",
            "_view_name": "HBoxView",
            "box_style": "",
            "children": [
              "IPY_MODEL_6e3693fb6bf9427aa6c8037790b6db1a",
              "IPY_MODEL_889df17ce42a4fce8629d960846ccb3f",
              "IPY_MODEL_d1b43915ad044aaea8d229e57f325b01"
            ],
            "layout": "IPY_MODEL_ec510d45eb2043258da71c485fa08c7b"
          }
        },
        "6e3693fb6bf9427aa6c8037790b6db1a": {
          "model_module": "@jupyter-widgets/controls",
          "model_name": "HTMLModel",
          "model_module_version": "1.5.0",
          "state": {
            "_dom_classes": [],
            "_model_module": "@jupyter-widgets/controls",
            "_model_module_version": "1.5.0",
            "_model_name": "HTMLModel",
            "_view_count": null,
            "_view_module": "@jupyter-widgets/controls",
            "_view_module_version": "1.5.0",
            "_view_name": "HTMLView",
            "description": "",
            "description_tooltip": null,
            "layout": "IPY_MODEL_d5f379ce2ad748f68cade9cf7ef16ad1",
            "placeholder": "​",
            "style": "IPY_MODEL_02684e66718140e98dcd3f75d8b62c70",
            "value": "sentence_bert_config.json: 100%"
          }
        },
        "889df17ce42a4fce8629d960846ccb3f": {
          "model_module": "@jupyter-widgets/controls",
          "model_name": "FloatProgressModel",
          "model_module_version": "1.5.0",
          "state": {
            "_dom_classes": [],
            "_model_module": "@jupyter-widgets/controls",
            "_model_module_version": "1.5.0",
            "_model_name": "FloatProgressModel",
            "_view_count": null,
            "_view_module": "@jupyter-widgets/controls",
            "_view_module_version": "1.5.0",
            "_view_name": "ProgressView",
            "bar_style": "success",
            "description": "",
            "description_tooltip": null,
            "layout": "IPY_MODEL_52d7cecd977c4cd3997213fe8a9454f1",
            "max": 53,
            "min": 0,
            "orientation": "horizontal",
            "style": "IPY_MODEL_5b5246661f5d42249e1577bea1bb835e",
            "value": 53
          }
        },
        "d1b43915ad044aaea8d229e57f325b01": {
          "model_module": "@jupyter-widgets/controls",
          "model_name": "HTMLModel",
          "model_module_version": "1.5.0",
          "state": {
            "_dom_classes": [],
            "_model_module": "@jupyter-widgets/controls",
            "_model_module_version": "1.5.0",
            "_model_name": "HTMLModel",
            "_view_count": null,
            "_view_module": "@jupyter-widgets/controls",
            "_view_module_version": "1.5.0",
            "_view_name": "HTMLView",
            "description": "",
            "description_tooltip": null,
            "layout": "IPY_MODEL_26809e6b5e7944e785bc8d36f5e73d82",
            "placeholder": "​",
            "style": "IPY_MODEL_476b4d93aeb64fbbbc51eab51fda21d5",
            "value": " 53.0/53.0 [00:00&lt;00:00, 3.18kB/s]"
          }
        },
        "ec510d45eb2043258da71c485fa08c7b": {
          "model_module": "@jupyter-widgets/base",
          "model_name": "LayoutModel",
          "model_module_version": "1.2.0",
          "state": {
            "_model_module": "@jupyter-widgets/base",
            "_model_module_version": "1.2.0",
            "_model_name": "LayoutModel",
            "_view_count": null,
            "_view_module": "@jupyter-widgets/base",
            "_view_module_version": "1.2.0",
            "_view_name": "LayoutView",
            "align_content": null,
            "align_items": null,
            "align_self": null,
            "border": null,
            "bottom": null,
            "display": null,
            "flex": null,
            "flex_flow": null,
            "grid_area": null,
            "grid_auto_columns": null,
            "grid_auto_flow": null,
            "grid_auto_rows": null,
            "grid_column": null,
            "grid_gap": null,
            "grid_row": null,
            "grid_template_areas": null,
            "grid_template_columns": null,
            "grid_template_rows": null,
            "height": null,
            "justify_content": null,
            "justify_items": null,
            "left": null,
            "margin": null,
            "max_height": null,
            "max_width": null,
            "min_height": null,
            "min_width": null,
            "object_fit": null,
            "object_position": null,
            "order": null,
            "overflow": null,
            "overflow_x": null,
            "overflow_y": null,
            "padding": null,
            "right": null,
            "top": null,
            "visibility": null,
            "width": null
          }
        },
        "d5f379ce2ad748f68cade9cf7ef16ad1": {
          "model_module": "@jupyter-widgets/base",
          "model_name": "LayoutModel",
          "model_module_version": "1.2.0",
          "state": {
            "_model_module": "@jupyter-widgets/base",
            "_model_module_version": "1.2.0",
            "_model_name": "LayoutModel",
            "_view_count": null,
            "_view_module": "@jupyter-widgets/base",
            "_view_module_version": "1.2.0",
            "_view_name": "LayoutView",
            "align_content": null,
            "align_items": null,
            "align_self": null,
            "border": null,
            "bottom": null,
            "display": null,
            "flex": null,
            "flex_flow": null,
            "grid_area": null,
            "grid_auto_columns": null,
            "grid_auto_flow": null,
            "grid_auto_rows": null,
            "grid_column": null,
            "grid_gap": null,
            "grid_row": null,
            "grid_template_areas": null,
            "grid_template_columns": null,
            "grid_template_rows": null,
            "height": null,
            "justify_content": null,
            "justify_items": null,
            "left": null,
            "margin": null,
            "max_height": null,
            "max_width": null,
            "min_height": null,
            "min_width": null,
            "object_fit": null,
            "object_position": null,
            "order": null,
            "overflow": null,
            "overflow_x": null,
            "overflow_y": null,
            "padding": null,
            "right": null,
            "top": null,
            "visibility": null,
            "width": null
          }
        },
        "02684e66718140e98dcd3f75d8b62c70": {
          "model_module": "@jupyter-widgets/controls",
          "model_name": "DescriptionStyleModel",
          "model_module_version": "1.5.0",
          "state": {
            "_model_module": "@jupyter-widgets/controls",
            "_model_module_version": "1.5.0",
            "_model_name": "DescriptionStyleModel",
            "_view_count": null,
            "_view_module": "@jupyter-widgets/base",
            "_view_module_version": "1.2.0",
            "_view_name": "StyleView",
            "description_width": ""
          }
        },
        "52d7cecd977c4cd3997213fe8a9454f1": {
          "model_module": "@jupyter-widgets/base",
          "model_name": "LayoutModel",
          "model_module_version": "1.2.0",
          "state": {
            "_model_module": "@jupyter-widgets/base",
            "_model_module_version": "1.2.0",
            "_model_name": "LayoutModel",
            "_view_count": null,
            "_view_module": "@jupyter-widgets/base",
            "_view_module_version": "1.2.0",
            "_view_name": "LayoutView",
            "align_content": null,
            "align_items": null,
            "align_self": null,
            "border": null,
            "bottom": null,
            "display": null,
            "flex": null,
            "flex_flow": null,
            "grid_area": null,
            "grid_auto_columns": null,
            "grid_auto_flow": null,
            "grid_auto_rows": null,
            "grid_column": null,
            "grid_gap": null,
            "grid_row": null,
            "grid_template_areas": null,
            "grid_template_columns": null,
            "grid_template_rows": null,
            "height": null,
            "justify_content": null,
            "justify_items": null,
            "left": null,
            "margin": null,
            "max_height": null,
            "max_width": null,
            "min_height": null,
            "min_width": null,
            "object_fit": null,
            "object_position": null,
            "order": null,
            "overflow": null,
            "overflow_x": null,
            "overflow_y": null,
            "padding": null,
            "right": null,
            "top": null,
            "visibility": null,
            "width": null
          }
        },
        "5b5246661f5d42249e1577bea1bb835e": {
          "model_module": "@jupyter-widgets/controls",
          "model_name": "ProgressStyleModel",
          "model_module_version": "1.5.0",
          "state": {
            "_model_module": "@jupyter-widgets/controls",
            "_model_module_version": "1.5.0",
            "_model_name": "ProgressStyleModel",
            "_view_count": null,
            "_view_module": "@jupyter-widgets/base",
            "_view_module_version": "1.2.0",
            "_view_name": "StyleView",
            "bar_color": null,
            "description_width": ""
          }
        },
        "26809e6b5e7944e785bc8d36f5e73d82": {
          "model_module": "@jupyter-widgets/base",
          "model_name": "LayoutModel",
          "model_module_version": "1.2.0",
          "state": {
            "_model_module": "@jupyter-widgets/base",
            "_model_module_version": "1.2.0",
            "_model_name": "LayoutModel",
            "_view_count": null,
            "_view_module": "@jupyter-widgets/base",
            "_view_module_version": "1.2.0",
            "_view_name": "LayoutView",
            "align_content": null,
            "align_items": null,
            "align_self": null,
            "border": null,
            "bottom": null,
            "display": null,
            "flex": null,
            "flex_flow": null,
            "grid_area": null,
            "grid_auto_columns": null,
            "grid_auto_flow": null,
            "grid_auto_rows": null,
            "grid_column": null,
            "grid_gap": null,
            "grid_row": null,
            "grid_template_areas": null,
            "grid_template_columns": null,
            "grid_template_rows": null,
            "height": null,
            "justify_content": null,
            "justify_items": null,
            "left": null,
            "margin": null,
            "max_height": null,
            "max_width": null,
            "min_height": null,
            "min_width": null,
            "object_fit": null,
            "object_position": null,
            "order": null,
            "overflow": null,
            "overflow_x": null,
            "overflow_y": null,
            "padding": null,
            "right": null,
            "top": null,
            "visibility": null,
            "width": null
          }
        },
        "476b4d93aeb64fbbbc51eab51fda21d5": {
          "model_module": "@jupyter-widgets/controls",
          "model_name": "DescriptionStyleModel",
          "model_module_version": "1.5.0",
          "state": {
            "_model_module": "@jupyter-widgets/controls",
            "_model_module_version": "1.5.0",
            "_model_name": "DescriptionStyleModel",
            "_view_count": null,
            "_view_module": "@jupyter-widgets/base",
            "_view_module_version": "1.2.0",
            "_view_name": "StyleView",
            "description_width": ""
          }
        },
        "9292fb1328f44a50973d65bffce8bf53": {
          "model_module": "@jupyter-widgets/controls",
          "model_name": "HBoxModel",
          "model_module_version": "1.5.0",
          "state": {
            "_dom_classes": [],
            "_model_module": "@jupyter-widgets/controls",
            "_model_module_version": "1.5.0",
            "_model_name": "HBoxModel",
            "_view_count": null,
            "_view_module": "@jupyter-widgets/controls",
            "_view_module_version": "1.5.0",
            "_view_name": "HBoxView",
            "box_style": "",
            "children": [
              "IPY_MODEL_0609172f69024b4f8c5c10adc369ecfb",
              "IPY_MODEL_5f78b9b557f9409a85d63dbde8f28e5c",
              "IPY_MODEL_01d76fdd1cb542a39c2447e22c98bc89"
            ],
            "layout": "IPY_MODEL_3713c26d423148d891b08d17f4287c2d"
          }
        },
        "0609172f69024b4f8c5c10adc369ecfb": {
          "model_module": "@jupyter-widgets/controls",
          "model_name": "HTMLModel",
          "model_module_version": "1.5.0",
          "state": {
            "_dom_classes": [],
            "_model_module": "@jupyter-widgets/controls",
            "_model_module_version": "1.5.0",
            "_model_name": "HTMLModel",
            "_view_count": null,
            "_view_module": "@jupyter-widgets/controls",
            "_view_module_version": "1.5.0",
            "_view_name": "HTMLView",
            "description": "",
            "description_tooltip": null,
            "layout": "IPY_MODEL_c2ddf8384e28473486272036be6d3c4a",
            "placeholder": "​",
            "style": "IPY_MODEL_cc92a4f7af5244e4b329f80494184673",
            "value": "config.json: 100%"
          }
        },
        "5f78b9b557f9409a85d63dbde8f28e5c": {
          "model_module": "@jupyter-widgets/controls",
          "model_name": "FloatProgressModel",
          "model_module_version": "1.5.0",
          "state": {
            "_dom_classes": [],
            "_model_module": "@jupyter-widgets/controls",
            "_model_module_version": "1.5.0",
            "_model_name": "FloatProgressModel",
            "_view_count": null,
            "_view_module": "@jupyter-widgets/controls",
            "_view_module_version": "1.5.0",
            "_view_name": "ProgressView",
            "bar_style": "success",
            "description": "",
            "description_tooltip": null,
            "layout": "IPY_MODEL_8fa02193b3bd4fd6adb75e2009762bb2",
            "max": 612,
            "min": 0,
            "orientation": "horizontal",
            "style": "IPY_MODEL_5fa0d3627f294dc08d676cba9e8d0558",
            "value": 612
          }
        },
        "01d76fdd1cb542a39c2447e22c98bc89": {
          "model_module": "@jupyter-widgets/controls",
          "model_name": "HTMLModel",
          "model_module_version": "1.5.0",
          "state": {
            "_dom_classes": [],
            "_model_module": "@jupyter-widgets/controls",
            "_model_module_version": "1.5.0",
            "_model_name": "HTMLModel",
            "_view_count": null,
            "_view_module": "@jupyter-widgets/controls",
            "_view_module_version": "1.5.0",
            "_view_name": "HTMLView",
            "description": "",
            "description_tooltip": null,
            "layout": "IPY_MODEL_fffd528cccd940bd852d918117604cdb",
            "placeholder": "​",
            "style": "IPY_MODEL_f12e38409c05493985f0de633afb2d76",
            "value": " 612/612 [00:00&lt;00:00, 38.3kB/s]"
          }
        },
        "3713c26d423148d891b08d17f4287c2d": {
          "model_module": "@jupyter-widgets/base",
          "model_name": "LayoutModel",
          "model_module_version": "1.2.0",
          "state": {
            "_model_module": "@jupyter-widgets/base",
            "_model_module_version": "1.2.0",
            "_model_name": "LayoutModel",
            "_view_count": null,
            "_view_module": "@jupyter-widgets/base",
            "_view_module_version": "1.2.0",
            "_view_name": "LayoutView",
            "align_content": null,
            "align_items": null,
            "align_self": null,
            "border": null,
            "bottom": null,
            "display": null,
            "flex": null,
            "flex_flow": null,
            "grid_area": null,
            "grid_auto_columns": null,
            "grid_auto_flow": null,
            "grid_auto_rows": null,
            "grid_column": null,
            "grid_gap": null,
            "grid_row": null,
            "grid_template_areas": null,
            "grid_template_columns": null,
            "grid_template_rows": null,
            "height": null,
            "justify_content": null,
            "justify_items": null,
            "left": null,
            "margin": null,
            "max_height": null,
            "max_width": null,
            "min_height": null,
            "min_width": null,
            "object_fit": null,
            "object_position": null,
            "order": null,
            "overflow": null,
            "overflow_x": null,
            "overflow_y": null,
            "padding": null,
            "right": null,
            "top": null,
            "visibility": null,
            "width": null
          }
        },
        "c2ddf8384e28473486272036be6d3c4a": {
          "model_module": "@jupyter-widgets/base",
          "model_name": "LayoutModel",
          "model_module_version": "1.2.0",
          "state": {
            "_model_module": "@jupyter-widgets/base",
            "_model_module_version": "1.2.0",
            "_model_name": "LayoutModel",
            "_view_count": null,
            "_view_module": "@jupyter-widgets/base",
            "_view_module_version": "1.2.0",
            "_view_name": "LayoutView",
            "align_content": null,
            "align_items": null,
            "align_self": null,
            "border": null,
            "bottom": null,
            "display": null,
            "flex": null,
            "flex_flow": null,
            "grid_area": null,
            "grid_auto_columns": null,
            "grid_auto_flow": null,
            "grid_auto_rows": null,
            "grid_column": null,
            "grid_gap": null,
            "grid_row": null,
            "grid_template_areas": null,
            "grid_template_columns": null,
            "grid_template_rows": null,
            "height": null,
            "justify_content": null,
            "justify_items": null,
            "left": null,
            "margin": null,
            "max_height": null,
            "max_width": null,
            "min_height": null,
            "min_width": null,
            "object_fit": null,
            "object_position": null,
            "order": null,
            "overflow": null,
            "overflow_x": null,
            "overflow_y": null,
            "padding": null,
            "right": null,
            "top": null,
            "visibility": null,
            "width": null
          }
        },
        "cc92a4f7af5244e4b329f80494184673": {
          "model_module": "@jupyter-widgets/controls",
          "model_name": "DescriptionStyleModel",
          "model_module_version": "1.5.0",
          "state": {
            "_model_module": "@jupyter-widgets/controls",
            "_model_module_version": "1.5.0",
            "_model_name": "DescriptionStyleModel",
            "_view_count": null,
            "_view_module": "@jupyter-widgets/base",
            "_view_module_version": "1.2.0",
            "_view_name": "StyleView",
            "description_width": ""
          }
        },
        "8fa02193b3bd4fd6adb75e2009762bb2": {
          "model_module": "@jupyter-widgets/base",
          "model_name": "LayoutModel",
          "model_module_version": "1.2.0",
          "state": {
            "_model_module": "@jupyter-widgets/base",
            "_model_module_version": "1.2.0",
            "_model_name": "LayoutModel",
            "_view_count": null,
            "_view_module": "@jupyter-widgets/base",
            "_view_module_version": "1.2.0",
            "_view_name": "LayoutView",
            "align_content": null,
            "align_items": null,
            "align_self": null,
            "border": null,
            "bottom": null,
            "display": null,
            "flex": null,
            "flex_flow": null,
            "grid_area": null,
            "grid_auto_columns": null,
            "grid_auto_flow": null,
            "grid_auto_rows": null,
            "grid_column": null,
            "grid_gap": null,
            "grid_row": null,
            "grid_template_areas": null,
            "grid_template_columns": null,
            "grid_template_rows": null,
            "height": null,
            "justify_content": null,
            "justify_items": null,
            "left": null,
            "margin": null,
            "max_height": null,
            "max_width": null,
            "min_height": null,
            "min_width": null,
            "object_fit": null,
            "object_position": null,
            "order": null,
            "overflow": null,
            "overflow_x": null,
            "overflow_y": null,
            "padding": null,
            "right": null,
            "top": null,
            "visibility": null,
            "width": null
          }
        },
        "5fa0d3627f294dc08d676cba9e8d0558": {
          "model_module": "@jupyter-widgets/controls",
          "model_name": "ProgressStyleModel",
          "model_module_version": "1.5.0",
          "state": {
            "_model_module": "@jupyter-widgets/controls",
            "_model_module_version": "1.5.0",
            "_model_name": "ProgressStyleModel",
            "_view_count": null,
            "_view_module": "@jupyter-widgets/base",
            "_view_module_version": "1.2.0",
            "_view_name": "StyleView",
            "bar_color": null,
            "description_width": ""
          }
        },
        "fffd528cccd940bd852d918117604cdb": {
          "model_module": "@jupyter-widgets/base",
          "model_name": "LayoutModel",
          "model_module_version": "1.2.0",
          "state": {
            "_model_module": "@jupyter-widgets/base",
            "_model_module_version": "1.2.0",
            "_model_name": "LayoutModel",
            "_view_count": null,
            "_view_module": "@jupyter-widgets/base",
            "_view_module_version": "1.2.0",
            "_view_name": "LayoutView",
            "align_content": null,
            "align_items": null,
            "align_self": null,
            "border": null,
            "bottom": null,
            "display": null,
            "flex": null,
            "flex_flow": null,
            "grid_area": null,
            "grid_auto_columns": null,
            "grid_auto_flow": null,
            "grid_auto_rows": null,
            "grid_column": null,
            "grid_gap": null,
            "grid_row": null,
            "grid_template_areas": null,
            "grid_template_columns": null,
            "grid_template_rows": null,
            "height": null,
            "justify_content": null,
            "justify_items": null,
            "left": null,
            "margin": null,
            "max_height": null,
            "max_width": null,
            "min_height": null,
            "min_width": null,
            "object_fit": null,
            "object_position": null,
            "order": null,
            "overflow": null,
            "overflow_x": null,
            "overflow_y": null,
            "padding": null,
            "right": null,
            "top": null,
            "visibility": null,
            "width": null
          }
        },
        "f12e38409c05493985f0de633afb2d76": {
          "model_module": "@jupyter-widgets/controls",
          "model_name": "DescriptionStyleModel",
          "model_module_version": "1.5.0",
          "state": {
            "_model_module": "@jupyter-widgets/controls",
            "_model_module_version": "1.5.0",
            "_model_name": "DescriptionStyleModel",
            "_view_count": null,
            "_view_module": "@jupyter-widgets/base",
            "_view_module_version": "1.2.0",
            "_view_name": "StyleView",
            "description_width": ""
          }
        },
        "c5881a8b7e9a4e1ba85e24ca70b103c8": {
          "model_module": "@jupyter-widgets/controls",
          "model_name": "HBoxModel",
          "model_module_version": "1.5.0",
          "state": {
            "_dom_classes": [],
            "_model_module": "@jupyter-widgets/controls",
            "_model_module_version": "1.5.0",
            "_model_name": "HBoxModel",
            "_view_count": null,
            "_view_module": "@jupyter-widgets/controls",
            "_view_module_version": "1.5.0",
            "_view_name": "HBoxView",
            "box_style": "",
            "children": [
              "IPY_MODEL_ee621d7f8c544622bfdb104c29c157f6",
              "IPY_MODEL_59d53840807c49dab143731d0a202bc2",
              "IPY_MODEL_c7b5b2057ac14592a1c2f62ca52b277e"
            ],
            "layout": "IPY_MODEL_4170b242c48c4b5bbd43afd871598bdb"
          }
        },
        "ee621d7f8c544622bfdb104c29c157f6": {
          "model_module": "@jupyter-widgets/controls",
          "model_name": "HTMLModel",
          "model_module_version": "1.5.0",
          "state": {
            "_dom_classes": [],
            "_model_module": "@jupyter-widgets/controls",
            "_model_module_version": "1.5.0",
            "_model_name": "HTMLModel",
            "_view_count": null,
            "_view_module": "@jupyter-widgets/controls",
            "_view_module_version": "1.5.0",
            "_view_name": "HTMLView",
            "description": "",
            "description_tooltip": null,
            "layout": "IPY_MODEL_32aa1e4420d6473991edc24478e91a8f",
            "placeholder": "​",
            "style": "IPY_MODEL_ee070d123a4a4382880c0971ab09406b",
            "value": "model.safetensors: 100%"
          }
        },
        "59d53840807c49dab143731d0a202bc2": {
          "model_module": "@jupyter-widgets/controls",
          "model_name": "FloatProgressModel",
          "model_module_version": "1.5.0",
          "state": {
            "_dom_classes": [],
            "_model_module": "@jupyter-widgets/controls",
            "_model_module_version": "1.5.0",
            "_model_name": "FloatProgressModel",
            "_view_count": null,
            "_view_module": "@jupyter-widgets/controls",
            "_view_module_version": "1.5.0",
            "_view_name": "ProgressView",
            "bar_style": "success",
            "description": "",
            "description_tooltip": null,
            "layout": "IPY_MODEL_24e370b802c444b880b208cce73cfc16",
            "max": 90868376,
            "min": 0,
            "orientation": "horizontal",
            "style": "IPY_MODEL_182019bab47344c3a9efd674abd5351b",
            "value": 90868376
          }
        },
        "c7b5b2057ac14592a1c2f62ca52b277e": {
          "model_module": "@jupyter-widgets/controls",
          "model_name": "HTMLModel",
          "model_module_version": "1.5.0",
          "state": {
            "_dom_classes": [],
            "_model_module": "@jupyter-widgets/controls",
            "_model_module_version": "1.5.0",
            "_model_name": "HTMLModel",
            "_view_count": null,
            "_view_module": "@jupyter-widgets/controls",
            "_view_module_version": "1.5.0",
            "_view_name": "HTMLView",
            "description": "",
            "description_tooltip": null,
            "layout": "IPY_MODEL_866d3f8991664098b259f233d8ff8781",
            "placeholder": "​",
            "style": "IPY_MODEL_93d871020a4d447290d1ce11889fd295",
            "value": " 90.9M/90.9M [00:00&lt;00:00, 204MB/s]"
          }
        },
        "4170b242c48c4b5bbd43afd871598bdb": {
          "model_module": "@jupyter-widgets/base",
          "model_name": "LayoutModel",
          "model_module_version": "1.2.0",
          "state": {
            "_model_module": "@jupyter-widgets/base",
            "_model_module_version": "1.2.0",
            "_model_name": "LayoutModel",
            "_view_count": null,
            "_view_module": "@jupyter-widgets/base",
            "_view_module_version": "1.2.0",
            "_view_name": "LayoutView",
            "align_content": null,
            "align_items": null,
            "align_self": null,
            "border": null,
            "bottom": null,
            "display": null,
            "flex": null,
            "flex_flow": null,
            "grid_area": null,
            "grid_auto_columns": null,
            "grid_auto_flow": null,
            "grid_auto_rows": null,
            "grid_column": null,
            "grid_gap": null,
            "grid_row": null,
            "grid_template_areas": null,
            "grid_template_columns": null,
            "grid_template_rows": null,
            "height": null,
            "justify_content": null,
            "justify_items": null,
            "left": null,
            "margin": null,
            "max_height": null,
            "max_width": null,
            "min_height": null,
            "min_width": null,
            "object_fit": null,
            "object_position": null,
            "order": null,
            "overflow": null,
            "overflow_x": null,
            "overflow_y": null,
            "padding": null,
            "right": null,
            "top": null,
            "visibility": null,
            "width": null
          }
        },
        "32aa1e4420d6473991edc24478e91a8f": {
          "model_module": "@jupyter-widgets/base",
          "model_name": "LayoutModel",
          "model_module_version": "1.2.0",
          "state": {
            "_model_module": "@jupyter-widgets/base",
            "_model_module_version": "1.2.0",
            "_model_name": "LayoutModel",
            "_view_count": null,
            "_view_module": "@jupyter-widgets/base",
            "_view_module_version": "1.2.0",
            "_view_name": "LayoutView",
            "align_content": null,
            "align_items": null,
            "align_self": null,
            "border": null,
            "bottom": null,
            "display": null,
            "flex": null,
            "flex_flow": null,
            "grid_area": null,
            "grid_auto_columns": null,
            "grid_auto_flow": null,
            "grid_auto_rows": null,
            "grid_column": null,
            "grid_gap": null,
            "grid_row": null,
            "grid_template_areas": null,
            "grid_template_columns": null,
            "grid_template_rows": null,
            "height": null,
            "justify_content": null,
            "justify_items": null,
            "left": null,
            "margin": null,
            "max_height": null,
            "max_width": null,
            "min_height": null,
            "min_width": null,
            "object_fit": null,
            "object_position": null,
            "order": null,
            "overflow": null,
            "overflow_x": null,
            "overflow_y": null,
            "padding": null,
            "right": null,
            "top": null,
            "visibility": null,
            "width": null
          }
        },
        "ee070d123a4a4382880c0971ab09406b": {
          "model_module": "@jupyter-widgets/controls",
          "model_name": "DescriptionStyleModel",
          "model_module_version": "1.5.0",
          "state": {
            "_model_module": "@jupyter-widgets/controls",
            "_model_module_version": "1.5.0",
            "_model_name": "DescriptionStyleModel",
            "_view_count": null,
            "_view_module": "@jupyter-widgets/base",
            "_view_module_version": "1.2.0",
            "_view_name": "StyleView",
            "description_width": ""
          }
        },
        "24e370b802c444b880b208cce73cfc16": {
          "model_module": "@jupyter-widgets/base",
          "model_name": "LayoutModel",
          "model_module_version": "1.2.0",
          "state": {
            "_model_module": "@jupyter-widgets/base",
            "_model_module_version": "1.2.0",
            "_model_name": "LayoutModel",
            "_view_count": null,
            "_view_module": "@jupyter-widgets/base",
            "_view_module_version": "1.2.0",
            "_view_name": "LayoutView",
            "align_content": null,
            "align_items": null,
            "align_self": null,
            "border": null,
            "bottom": null,
            "display": null,
            "flex": null,
            "flex_flow": null,
            "grid_area": null,
            "grid_auto_columns": null,
            "grid_auto_flow": null,
            "grid_auto_rows": null,
            "grid_column": null,
            "grid_gap": null,
            "grid_row": null,
            "grid_template_areas": null,
            "grid_template_columns": null,
            "grid_template_rows": null,
            "height": null,
            "justify_content": null,
            "justify_items": null,
            "left": null,
            "margin": null,
            "max_height": null,
            "max_width": null,
            "min_height": null,
            "min_width": null,
            "object_fit": null,
            "object_position": null,
            "order": null,
            "overflow": null,
            "overflow_x": null,
            "overflow_y": null,
            "padding": null,
            "right": null,
            "top": null,
            "visibility": null,
            "width": null
          }
        },
        "182019bab47344c3a9efd674abd5351b": {
          "model_module": "@jupyter-widgets/controls",
          "model_name": "ProgressStyleModel",
          "model_module_version": "1.5.0",
          "state": {
            "_model_module": "@jupyter-widgets/controls",
            "_model_module_version": "1.5.0",
            "_model_name": "ProgressStyleModel",
            "_view_count": null,
            "_view_module": "@jupyter-widgets/base",
            "_view_module_version": "1.2.0",
            "_view_name": "StyleView",
            "bar_color": null,
            "description_width": ""
          }
        },
        "866d3f8991664098b259f233d8ff8781": {
          "model_module": "@jupyter-widgets/base",
          "model_name": "LayoutModel",
          "model_module_version": "1.2.0",
          "state": {
            "_model_module": "@jupyter-widgets/base",
            "_model_module_version": "1.2.0",
            "_model_name": "LayoutModel",
            "_view_count": null,
            "_view_module": "@jupyter-widgets/base",
            "_view_module_version": "1.2.0",
            "_view_name": "LayoutView",
            "align_content": null,
            "align_items": null,
            "align_self": null,
            "border": null,
            "bottom": null,
            "display": null,
            "flex": null,
            "flex_flow": null,
            "grid_area": null,
            "grid_auto_columns": null,
            "grid_auto_flow": null,
            "grid_auto_rows": null,
            "grid_column": null,
            "grid_gap": null,
            "grid_row": null,
            "grid_template_areas": null,
            "grid_template_columns": null,
            "grid_template_rows": null,
            "height": null,
            "justify_content": null,
            "justify_items": null,
            "left": null,
            "margin": null,
            "max_height": null,
            "max_width": null,
            "min_height": null,
            "min_width": null,
            "object_fit": null,
            "object_position": null,
            "order": null,
            "overflow": null,
            "overflow_x": null,
            "overflow_y": null,
            "padding": null,
            "right": null,
            "top": null,
            "visibility": null,
            "width": null
          }
        },
        "93d871020a4d447290d1ce11889fd295": {
          "model_module": "@jupyter-widgets/controls",
          "model_name": "DescriptionStyleModel",
          "model_module_version": "1.5.0",
          "state": {
            "_model_module": "@jupyter-widgets/controls",
            "_model_module_version": "1.5.0",
            "_model_name": "DescriptionStyleModel",
            "_view_count": null,
            "_view_module": "@jupyter-widgets/base",
            "_view_module_version": "1.2.0",
            "_view_name": "StyleView",
            "description_width": ""
          }
        },
        "1bc7b69bc634410692f5530dabe41130": {
          "model_module": "@jupyter-widgets/controls",
          "model_name": "HBoxModel",
          "model_module_version": "1.5.0",
          "state": {
            "_dom_classes": [],
            "_model_module": "@jupyter-widgets/controls",
            "_model_module_version": "1.5.0",
            "_model_name": "HBoxModel",
            "_view_count": null,
            "_view_module": "@jupyter-widgets/controls",
            "_view_module_version": "1.5.0",
            "_view_name": "HBoxView",
            "box_style": "",
            "children": [
              "IPY_MODEL_884bd86d853f4b0bad0a2eb40ce20908",
              "IPY_MODEL_63e6e0a75c50421892585084b4d92c9d",
              "IPY_MODEL_b90e5c6a55ce418689a480d539aa07b3"
            ],
            "layout": "IPY_MODEL_6be0eaa08a5c42419616599a6e94901f"
          }
        },
        "884bd86d853f4b0bad0a2eb40ce20908": {
          "model_module": "@jupyter-widgets/controls",
          "model_name": "HTMLModel",
          "model_module_version": "1.5.0",
          "state": {
            "_dom_classes": [],
            "_model_module": "@jupyter-widgets/controls",
            "_model_module_version": "1.5.0",
            "_model_name": "HTMLModel",
            "_view_count": null,
            "_view_module": "@jupyter-widgets/controls",
            "_view_module_version": "1.5.0",
            "_view_name": "HTMLView",
            "description": "",
            "description_tooltip": null,
            "layout": "IPY_MODEL_98252c9ca28e4bcbb55df1aa3e02fa5f",
            "placeholder": "​",
            "style": "IPY_MODEL_d28c561d38e8433db1cd8fec9c16a957",
            "value": "tokenizer_config.json: 100%"
          }
        },
        "63e6e0a75c50421892585084b4d92c9d": {
          "model_module": "@jupyter-widgets/controls",
          "model_name": "FloatProgressModel",
          "model_module_version": "1.5.0",
          "state": {
            "_dom_classes": [],
            "_model_module": "@jupyter-widgets/controls",
            "_model_module_version": "1.5.0",
            "_model_name": "FloatProgressModel",
            "_view_count": null,
            "_view_module": "@jupyter-widgets/controls",
            "_view_module_version": "1.5.0",
            "_view_name": "ProgressView",
            "bar_style": "success",
            "description": "",
            "description_tooltip": null,
            "layout": "IPY_MODEL_89034273cecc4abfa64af370d39120b1",
            "max": 350,
            "min": 0,
            "orientation": "horizontal",
            "style": "IPY_MODEL_2e62c7a64c5448fa9652781f898b55ad",
            "value": 350
          }
        },
        "b90e5c6a55ce418689a480d539aa07b3": {
          "model_module": "@jupyter-widgets/controls",
          "model_name": "HTMLModel",
          "model_module_version": "1.5.0",
          "state": {
            "_dom_classes": [],
            "_model_module": "@jupyter-widgets/controls",
            "_model_module_version": "1.5.0",
            "_model_name": "HTMLModel",
            "_view_count": null,
            "_view_module": "@jupyter-widgets/controls",
            "_view_module_version": "1.5.0",
            "_view_name": "HTMLView",
            "description": "",
            "description_tooltip": null,
            "layout": "IPY_MODEL_4ac33527be0c41bc997f814e60d5aedd",
            "placeholder": "​",
            "style": "IPY_MODEL_9ec86216a41f4b1fa32d032ff63e1f15",
            "value": " 350/350 [00:00&lt;00:00, 23.0kB/s]"
          }
        },
        "6be0eaa08a5c42419616599a6e94901f": {
          "model_module": "@jupyter-widgets/base",
          "model_name": "LayoutModel",
          "model_module_version": "1.2.0",
          "state": {
            "_model_module": "@jupyter-widgets/base",
            "_model_module_version": "1.2.0",
            "_model_name": "LayoutModel",
            "_view_count": null,
            "_view_module": "@jupyter-widgets/base",
            "_view_module_version": "1.2.0",
            "_view_name": "LayoutView",
            "align_content": null,
            "align_items": null,
            "align_self": null,
            "border": null,
            "bottom": null,
            "display": null,
            "flex": null,
            "flex_flow": null,
            "grid_area": null,
            "grid_auto_columns": null,
            "grid_auto_flow": null,
            "grid_auto_rows": null,
            "grid_column": null,
            "grid_gap": null,
            "grid_row": null,
            "grid_template_areas": null,
            "grid_template_columns": null,
            "grid_template_rows": null,
            "height": null,
            "justify_content": null,
            "justify_items": null,
            "left": null,
            "margin": null,
            "max_height": null,
            "max_width": null,
            "min_height": null,
            "min_width": null,
            "object_fit": null,
            "object_position": null,
            "order": null,
            "overflow": null,
            "overflow_x": null,
            "overflow_y": null,
            "padding": null,
            "right": null,
            "top": null,
            "visibility": null,
            "width": null
          }
        },
        "98252c9ca28e4bcbb55df1aa3e02fa5f": {
          "model_module": "@jupyter-widgets/base",
          "model_name": "LayoutModel",
          "model_module_version": "1.2.0",
          "state": {
            "_model_module": "@jupyter-widgets/base",
            "_model_module_version": "1.2.0",
            "_model_name": "LayoutModel",
            "_view_count": null,
            "_view_module": "@jupyter-widgets/base",
            "_view_module_version": "1.2.0",
            "_view_name": "LayoutView",
            "align_content": null,
            "align_items": null,
            "align_self": null,
            "border": null,
            "bottom": null,
            "display": null,
            "flex": null,
            "flex_flow": null,
            "grid_area": null,
            "grid_auto_columns": null,
            "grid_auto_flow": null,
            "grid_auto_rows": null,
            "grid_column": null,
            "grid_gap": null,
            "grid_row": null,
            "grid_template_areas": null,
            "grid_template_columns": null,
            "grid_template_rows": null,
            "height": null,
            "justify_content": null,
            "justify_items": null,
            "left": null,
            "margin": null,
            "max_height": null,
            "max_width": null,
            "min_height": null,
            "min_width": null,
            "object_fit": null,
            "object_position": null,
            "order": null,
            "overflow": null,
            "overflow_x": null,
            "overflow_y": null,
            "padding": null,
            "right": null,
            "top": null,
            "visibility": null,
            "width": null
          }
        },
        "d28c561d38e8433db1cd8fec9c16a957": {
          "model_module": "@jupyter-widgets/controls",
          "model_name": "DescriptionStyleModel",
          "model_module_version": "1.5.0",
          "state": {
            "_model_module": "@jupyter-widgets/controls",
            "_model_module_version": "1.5.0",
            "_model_name": "DescriptionStyleModel",
            "_view_count": null,
            "_view_module": "@jupyter-widgets/base",
            "_view_module_version": "1.2.0",
            "_view_name": "StyleView",
            "description_width": ""
          }
        },
        "89034273cecc4abfa64af370d39120b1": {
          "model_module": "@jupyter-widgets/base",
          "model_name": "LayoutModel",
          "model_module_version": "1.2.0",
          "state": {
            "_model_module": "@jupyter-widgets/base",
            "_model_module_version": "1.2.0",
            "_model_name": "LayoutModel",
            "_view_count": null,
            "_view_module": "@jupyter-widgets/base",
            "_view_module_version": "1.2.0",
            "_view_name": "LayoutView",
            "align_content": null,
            "align_items": null,
            "align_self": null,
            "border": null,
            "bottom": null,
            "display": null,
            "flex": null,
            "flex_flow": null,
            "grid_area": null,
            "grid_auto_columns": null,
            "grid_auto_flow": null,
            "grid_auto_rows": null,
            "grid_column": null,
            "grid_gap": null,
            "grid_row": null,
            "grid_template_areas": null,
            "grid_template_columns": null,
            "grid_template_rows": null,
            "height": null,
            "justify_content": null,
            "justify_items": null,
            "left": null,
            "margin": null,
            "max_height": null,
            "max_width": null,
            "min_height": null,
            "min_width": null,
            "object_fit": null,
            "object_position": null,
            "order": null,
            "overflow": null,
            "overflow_x": null,
            "overflow_y": null,
            "padding": null,
            "right": null,
            "top": null,
            "visibility": null,
            "width": null
          }
        },
        "2e62c7a64c5448fa9652781f898b55ad": {
          "model_module": "@jupyter-widgets/controls",
          "model_name": "ProgressStyleModel",
          "model_module_version": "1.5.0",
          "state": {
            "_model_module": "@jupyter-widgets/controls",
            "_model_module_version": "1.5.0",
            "_model_name": "ProgressStyleModel",
            "_view_count": null,
            "_view_module": "@jupyter-widgets/base",
            "_view_module_version": "1.2.0",
            "_view_name": "StyleView",
            "bar_color": null,
            "description_width": ""
          }
        },
        "4ac33527be0c41bc997f814e60d5aedd": {
          "model_module": "@jupyter-widgets/base",
          "model_name": "LayoutModel",
          "model_module_version": "1.2.0",
          "state": {
            "_model_module": "@jupyter-widgets/base",
            "_model_module_version": "1.2.0",
            "_model_name": "LayoutModel",
            "_view_count": null,
            "_view_module": "@jupyter-widgets/base",
            "_view_module_version": "1.2.0",
            "_view_name": "LayoutView",
            "align_content": null,
            "align_items": null,
            "align_self": null,
            "border": null,
            "bottom": null,
            "display": null,
            "flex": null,
            "flex_flow": null,
            "grid_area": null,
            "grid_auto_columns": null,
            "grid_auto_flow": null,
            "grid_auto_rows": null,
            "grid_column": null,
            "grid_gap": null,
            "grid_row": null,
            "grid_template_areas": null,
            "grid_template_columns": null,
            "grid_template_rows": null,
            "height": null,
            "justify_content": null,
            "justify_items": null,
            "left": null,
            "margin": null,
            "max_height": null,
            "max_width": null,
            "min_height": null,
            "min_width": null,
            "object_fit": null,
            "object_position": null,
            "order": null,
            "overflow": null,
            "overflow_x": null,
            "overflow_y": null,
            "padding": null,
            "right": null,
            "top": null,
            "visibility": null,
            "width": null
          }
        },
        "9ec86216a41f4b1fa32d032ff63e1f15": {
          "model_module": "@jupyter-widgets/controls",
          "model_name": "DescriptionStyleModel",
          "model_module_version": "1.5.0",
          "state": {
            "_model_module": "@jupyter-widgets/controls",
            "_model_module_version": "1.5.0",
            "_model_name": "DescriptionStyleModel",
            "_view_count": null,
            "_view_module": "@jupyter-widgets/base",
            "_view_module_version": "1.2.0",
            "_view_name": "StyleView",
            "description_width": ""
          }
        },
        "537e9d1b777a46adaf76b86d9d6af9ec": {
          "model_module": "@jupyter-widgets/controls",
          "model_name": "HBoxModel",
          "model_module_version": "1.5.0",
          "state": {
            "_dom_classes": [],
            "_model_module": "@jupyter-widgets/controls",
            "_model_module_version": "1.5.0",
            "_model_name": "HBoxModel",
            "_view_count": null,
            "_view_module": "@jupyter-widgets/controls",
            "_view_module_version": "1.5.0",
            "_view_name": "HBoxView",
            "box_style": "",
            "children": [
              "IPY_MODEL_cfb1812c2ffa436c9c8bcbcd9bba58f1",
              "IPY_MODEL_3f68af65a3dc41879c22677f82afb4c7",
              "IPY_MODEL_fb819a88756d45cbb6663e2b9655ef0b"
            ],
            "layout": "IPY_MODEL_bd83bf632bb84700a02c4c569a193198"
          }
        },
        "cfb1812c2ffa436c9c8bcbcd9bba58f1": {
          "model_module": "@jupyter-widgets/controls",
          "model_name": "HTMLModel",
          "model_module_version": "1.5.0",
          "state": {
            "_dom_classes": [],
            "_model_module": "@jupyter-widgets/controls",
            "_model_module_version": "1.5.0",
            "_model_name": "HTMLModel",
            "_view_count": null,
            "_view_module": "@jupyter-widgets/controls",
            "_view_module_version": "1.5.0",
            "_view_name": "HTMLView",
            "description": "",
            "description_tooltip": null,
            "layout": "IPY_MODEL_90fbacf550e24b71baa885a05863e9aa",
            "placeholder": "​",
            "style": "IPY_MODEL_58a56508d8304169ae81f5bef92df288",
            "value": "vocab.txt: 100%"
          }
        },
        "3f68af65a3dc41879c22677f82afb4c7": {
          "model_module": "@jupyter-widgets/controls",
          "model_name": "FloatProgressModel",
          "model_module_version": "1.5.0",
          "state": {
            "_dom_classes": [],
            "_model_module": "@jupyter-widgets/controls",
            "_model_module_version": "1.5.0",
            "_model_name": "FloatProgressModel",
            "_view_count": null,
            "_view_module": "@jupyter-widgets/controls",
            "_view_module_version": "1.5.0",
            "_view_name": "ProgressView",
            "bar_style": "success",
            "description": "",
            "description_tooltip": null,
            "layout": "IPY_MODEL_9293cb31cf784705a553b7e4a6738512",
            "max": 231508,
            "min": 0,
            "orientation": "horizontal",
            "style": "IPY_MODEL_94133bfb88a84595978110eb5eff32ce",
            "value": 231508
          }
        },
        "fb819a88756d45cbb6663e2b9655ef0b": {
          "model_module": "@jupyter-widgets/controls",
          "model_name": "HTMLModel",
          "model_module_version": "1.5.0",
          "state": {
            "_dom_classes": [],
            "_model_module": "@jupyter-widgets/controls",
            "_model_module_version": "1.5.0",
            "_model_name": "HTMLModel",
            "_view_count": null,
            "_view_module": "@jupyter-widgets/controls",
            "_view_module_version": "1.5.0",
            "_view_name": "HTMLView",
            "description": "",
            "description_tooltip": null,
            "layout": "IPY_MODEL_8273eaaa3b104a42b738dbbebda6fa3c",
            "placeholder": "​",
            "style": "IPY_MODEL_f2a834f59efe453f96ccdb4a52e06833",
            "value": " 232k/232k [00:00&lt;00:00, 5.51MB/s]"
          }
        },
        "bd83bf632bb84700a02c4c569a193198": {
          "model_module": "@jupyter-widgets/base",
          "model_name": "LayoutModel",
          "model_module_version": "1.2.0",
          "state": {
            "_model_module": "@jupyter-widgets/base",
            "_model_module_version": "1.2.0",
            "_model_name": "LayoutModel",
            "_view_count": null,
            "_view_module": "@jupyter-widgets/base",
            "_view_module_version": "1.2.0",
            "_view_name": "LayoutView",
            "align_content": null,
            "align_items": null,
            "align_self": null,
            "border": null,
            "bottom": null,
            "display": null,
            "flex": null,
            "flex_flow": null,
            "grid_area": null,
            "grid_auto_columns": null,
            "grid_auto_flow": null,
            "grid_auto_rows": null,
            "grid_column": null,
            "grid_gap": null,
            "grid_row": null,
            "grid_template_areas": null,
            "grid_template_columns": null,
            "grid_template_rows": null,
            "height": null,
            "justify_content": null,
            "justify_items": null,
            "left": null,
            "margin": null,
            "max_height": null,
            "max_width": null,
            "min_height": null,
            "min_width": null,
            "object_fit": null,
            "object_position": null,
            "order": null,
            "overflow": null,
            "overflow_x": null,
            "overflow_y": null,
            "padding": null,
            "right": null,
            "top": null,
            "visibility": null,
            "width": null
          }
        },
        "90fbacf550e24b71baa885a05863e9aa": {
          "model_module": "@jupyter-widgets/base",
          "model_name": "LayoutModel",
          "model_module_version": "1.2.0",
          "state": {
            "_model_module": "@jupyter-widgets/base",
            "_model_module_version": "1.2.0",
            "_model_name": "LayoutModel",
            "_view_count": null,
            "_view_module": "@jupyter-widgets/base",
            "_view_module_version": "1.2.0",
            "_view_name": "LayoutView",
            "align_content": null,
            "align_items": null,
            "align_self": null,
            "border": null,
            "bottom": null,
            "display": null,
            "flex": null,
            "flex_flow": null,
            "grid_area": null,
            "grid_auto_columns": null,
            "grid_auto_flow": null,
            "grid_auto_rows": null,
            "grid_column": null,
            "grid_gap": null,
            "grid_row": null,
            "grid_template_areas": null,
            "grid_template_columns": null,
            "grid_template_rows": null,
            "height": null,
            "justify_content": null,
            "justify_items": null,
            "left": null,
            "margin": null,
            "max_height": null,
            "max_width": null,
            "min_height": null,
            "min_width": null,
            "object_fit": null,
            "object_position": null,
            "order": null,
            "overflow": null,
            "overflow_x": null,
            "overflow_y": null,
            "padding": null,
            "right": null,
            "top": null,
            "visibility": null,
            "width": null
          }
        },
        "58a56508d8304169ae81f5bef92df288": {
          "model_module": "@jupyter-widgets/controls",
          "model_name": "DescriptionStyleModel",
          "model_module_version": "1.5.0",
          "state": {
            "_model_module": "@jupyter-widgets/controls",
            "_model_module_version": "1.5.0",
            "_model_name": "DescriptionStyleModel",
            "_view_count": null,
            "_view_module": "@jupyter-widgets/base",
            "_view_module_version": "1.2.0",
            "_view_name": "StyleView",
            "description_width": ""
          }
        },
        "9293cb31cf784705a553b7e4a6738512": {
          "model_module": "@jupyter-widgets/base",
          "model_name": "LayoutModel",
          "model_module_version": "1.2.0",
          "state": {
            "_model_module": "@jupyter-widgets/base",
            "_model_module_version": "1.2.0",
            "_model_name": "LayoutModel",
            "_view_count": null,
            "_view_module": "@jupyter-widgets/base",
            "_view_module_version": "1.2.0",
            "_view_name": "LayoutView",
            "align_content": null,
            "align_items": null,
            "align_self": null,
            "border": null,
            "bottom": null,
            "display": null,
            "flex": null,
            "flex_flow": null,
            "grid_area": null,
            "grid_auto_columns": null,
            "grid_auto_flow": null,
            "grid_auto_rows": null,
            "grid_column": null,
            "grid_gap": null,
            "grid_row": null,
            "grid_template_areas": null,
            "grid_template_columns": null,
            "grid_template_rows": null,
            "height": null,
            "justify_content": null,
            "justify_items": null,
            "left": null,
            "margin": null,
            "max_height": null,
            "max_width": null,
            "min_height": null,
            "min_width": null,
            "object_fit": null,
            "object_position": null,
            "order": null,
            "overflow": null,
            "overflow_x": null,
            "overflow_y": null,
            "padding": null,
            "right": null,
            "top": null,
            "visibility": null,
            "width": null
          }
        },
        "94133bfb88a84595978110eb5eff32ce": {
          "model_module": "@jupyter-widgets/controls",
          "model_name": "ProgressStyleModel",
          "model_module_version": "1.5.0",
          "state": {
            "_model_module": "@jupyter-widgets/controls",
            "_model_module_version": "1.5.0",
            "_model_name": "ProgressStyleModel",
            "_view_count": null,
            "_view_module": "@jupyter-widgets/base",
            "_view_module_version": "1.2.0",
            "_view_name": "StyleView",
            "bar_color": null,
            "description_width": ""
          }
        },
        "8273eaaa3b104a42b738dbbebda6fa3c": {
          "model_module": "@jupyter-widgets/base",
          "model_name": "LayoutModel",
          "model_module_version": "1.2.0",
          "state": {
            "_model_module": "@jupyter-widgets/base",
            "_model_module_version": "1.2.0",
            "_model_name": "LayoutModel",
            "_view_count": null,
            "_view_module": "@jupyter-widgets/base",
            "_view_module_version": "1.2.0",
            "_view_name": "LayoutView",
            "align_content": null,
            "align_items": null,
            "align_self": null,
            "border": null,
            "bottom": null,
            "display": null,
            "flex": null,
            "flex_flow": null,
            "grid_area": null,
            "grid_auto_columns": null,
            "grid_auto_flow": null,
            "grid_auto_rows": null,
            "grid_column": null,
            "grid_gap": null,
            "grid_row": null,
            "grid_template_areas": null,
            "grid_template_columns": null,
            "grid_template_rows": null,
            "height": null,
            "justify_content": null,
            "justify_items": null,
            "left": null,
            "margin": null,
            "max_height": null,
            "max_width": null,
            "min_height": null,
            "min_width": null,
            "object_fit": null,
            "object_position": null,
            "order": null,
            "overflow": null,
            "overflow_x": null,
            "overflow_y": null,
            "padding": null,
            "right": null,
            "top": null,
            "visibility": null,
            "width": null
          }
        },
        "f2a834f59efe453f96ccdb4a52e06833": {
          "model_module": "@jupyter-widgets/controls",
          "model_name": "DescriptionStyleModel",
          "model_module_version": "1.5.0",
          "state": {
            "_model_module": "@jupyter-widgets/controls",
            "_model_module_version": "1.5.0",
            "_model_name": "DescriptionStyleModel",
            "_view_count": null,
            "_view_module": "@jupyter-widgets/base",
            "_view_module_version": "1.2.0",
            "_view_name": "StyleView",
            "description_width": ""
          }
        },
        "7e37b26c0d3e41e8bc083ec5272ec837": {
          "model_module": "@jupyter-widgets/controls",
          "model_name": "HBoxModel",
          "model_module_version": "1.5.0",
          "state": {
            "_dom_classes": [],
            "_model_module": "@jupyter-widgets/controls",
            "_model_module_version": "1.5.0",
            "_model_name": "HBoxModel",
            "_view_count": null,
            "_view_module": "@jupyter-widgets/controls",
            "_view_module_version": "1.5.0",
            "_view_name": "HBoxView",
            "box_style": "",
            "children": [
              "IPY_MODEL_be8f64b70422413e867ac5c98a59df47",
              "IPY_MODEL_4475d9113f0c4a89b9e9f86f3ff6cd10",
              "IPY_MODEL_65fa710fad494c21804ce9ccf2aa452a"
            ],
            "layout": "IPY_MODEL_1d6a50d7d3884941ac350abafb12cf30"
          }
        },
        "be8f64b70422413e867ac5c98a59df47": {
          "model_module": "@jupyter-widgets/controls",
          "model_name": "HTMLModel",
          "model_module_version": "1.5.0",
          "state": {
            "_dom_classes": [],
            "_model_module": "@jupyter-widgets/controls",
            "_model_module_version": "1.5.0",
            "_model_name": "HTMLModel",
            "_view_count": null,
            "_view_module": "@jupyter-widgets/controls",
            "_view_module_version": "1.5.0",
            "_view_name": "HTMLView",
            "description": "",
            "description_tooltip": null,
            "layout": "IPY_MODEL_e8e1c8457dbd41579d8fda6852e18b6c",
            "placeholder": "​",
            "style": "IPY_MODEL_762639afd5c74925a6842b3ebe950a73",
            "value": "tokenizer.json: 100%"
          }
        },
        "4475d9113f0c4a89b9e9f86f3ff6cd10": {
          "model_module": "@jupyter-widgets/controls",
          "model_name": "FloatProgressModel",
          "model_module_version": "1.5.0",
          "state": {
            "_dom_classes": [],
            "_model_module": "@jupyter-widgets/controls",
            "_model_module_version": "1.5.0",
            "_model_name": "FloatProgressModel",
            "_view_count": null,
            "_view_module": "@jupyter-widgets/controls",
            "_view_module_version": "1.5.0",
            "_view_name": "ProgressView",
            "bar_style": "success",
            "description": "",
            "description_tooltip": null,
            "layout": "IPY_MODEL_8570776a90b44df69f4dba0accf07fe8",
            "max": 466247,
            "min": 0,
            "orientation": "horizontal",
            "style": "IPY_MODEL_c0596f307fe44db9b68932ccfe57d136",
            "value": 466247
          }
        },
        "65fa710fad494c21804ce9ccf2aa452a": {
          "model_module": "@jupyter-widgets/controls",
          "model_name": "HTMLModel",
          "model_module_version": "1.5.0",
          "state": {
            "_dom_classes": [],
            "_model_module": "@jupyter-widgets/controls",
            "_model_module_version": "1.5.0",
            "_model_name": "HTMLModel",
            "_view_count": null,
            "_view_module": "@jupyter-widgets/controls",
            "_view_module_version": "1.5.0",
            "_view_name": "HTMLView",
            "description": "",
            "description_tooltip": null,
            "layout": "IPY_MODEL_0b6a7357e1b94fb09141f948228fc366",
            "placeholder": "​",
            "style": "IPY_MODEL_2373c3f442a345eaa08cf7e4eb896230",
            "value": " 466k/466k [00:00&lt;00:00, 21.2MB/s]"
          }
        },
        "1d6a50d7d3884941ac350abafb12cf30": {
          "model_module": "@jupyter-widgets/base",
          "model_name": "LayoutModel",
          "model_module_version": "1.2.0",
          "state": {
            "_model_module": "@jupyter-widgets/base",
            "_model_module_version": "1.2.0",
            "_model_name": "LayoutModel",
            "_view_count": null,
            "_view_module": "@jupyter-widgets/base",
            "_view_module_version": "1.2.0",
            "_view_name": "LayoutView",
            "align_content": null,
            "align_items": null,
            "align_self": null,
            "border": null,
            "bottom": null,
            "display": null,
            "flex": null,
            "flex_flow": null,
            "grid_area": null,
            "grid_auto_columns": null,
            "grid_auto_flow": null,
            "grid_auto_rows": null,
            "grid_column": null,
            "grid_gap": null,
            "grid_row": null,
            "grid_template_areas": null,
            "grid_template_columns": null,
            "grid_template_rows": null,
            "height": null,
            "justify_content": null,
            "justify_items": null,
            "left": null,
            "margin": null,
            "max_height": null,
            "max_width": null,
            "min_height": null,
            "min_width": null,
            "object_fit": null,
            "object_position": null,
            "order": null,
            "overflow": null,
            "overflow_x": null,
            "overflow_y": null,
            "padding": null,
            "right": null,
            "top": null,
            "visibility": null,
            "width": null
          }
        },
        "e8e1c8457dbd41579d8fda6852e18b6c": {
          "model_module": "@jupyter-widgets/base",
          "model_name": "LayoutModel",
          "model_module_version": "1.2.0",
          "state": {
            "_model_module": "@jupyter-widgets/base",
            "_model_module_version": "1.2.0",
            "_model_name": "LayoutModel",
            "_view_count": null,
            "_view_module": "@jupyter-widgets/base",
            "_view_module_version": "1.2.0",
            "_view_name": "LayoutView",
            "align_content": null,
            "align_items": null,
            "align_self": null,
            "border": null,
            "bottom": null,
            "display": null,
            "flex": null,
            "flex_flow": null,
            "grid_area": null,
            "grid_auto_columns": null,
            "grid_auto_flow": null,
            "grid_auto_rows": null,
            "grid_column": null,
            "grid_gap": null,
            "grid_row": null,
            "grid_template_areas": null,
            "grid_template_columns": null,
            "grid_template_rows": null,
            "height": null,
            "justify_content": null,
            "justify_items": null,
            "left": null,
            "margin": null,
            "max_height": null,
            "max_width": null,
            "min_height": null,
            "min_width": null,
            "object_fit": null,
            "object_position": null,
            "order": null,
            "overflow": null,
            "overflow_x": null,
            "overflow_y": null,
            "padding": null,
            "right": null,
            "top": null,
            "visibility": null,
            "width": null
          }
        },
        "762639afd5c74925a6842b3ebe950a73": {
          "model_module": "@jupyter-widgets/controls",
          "model_name": "DescriptionStyleModel",
          "model_module_version": "1.5.0",
          "state": {
            "_model_module": "@jupyter-widgets/controls",
            "_model_module_version": "1.5.0",
            "_model_name": "DescriptionStyleModel",
            "_view_count": null,
            "_view_module": "@jupyter-widgets/base",
            "_view_module_version": "1.2.0",
            "_view_name": "StyleView",
            "description_width": ""
          }
        },
        "8570776a90b44df69f4dba0accf07fe8": {
          "model_module": "@jupyter-widgets/base",
          "model_name": "LayoutModel",
          "model_module_version": "1.2.0",
          "state": {
            "_model_module": "@jupyter-widgets/base",
            "_model_module_version": "1.2.0",
            "_model_name": "LayoutModel",
            "_view_count": null,
            "_view_module": "@jupyter-widgets/base",
            "_view_module_version": "1.2.0",
            "_view_name": "LayoutView",
            "align_content": null,
            "align_items": null,
            "align_self": null,
            "border": null,
            "bottom": null,
            "display": null,
            "flex": null,
            "flex_flow": null,
            "grid_area": null,
            "grid_auto_columns": null,
            "grid_auto_flow": null,
            "grid_auto_rows": null,
            "grid_column": null,
            "grid_gap": null,
            "grid_row": null,
            "grid_template_areas": null,
            "grid_template_columns": null,
            "grid_template_rows": null,
            "height": null,
            "justify_content": null,
            "justify_items": null,
            "left": null,
            "margin": null,
            "max_height": null,
            "max_width": null,
            "min_height": null,
            "min_width": null,
            "object_fit": null,
            "object_position": null,
            "order": null,
            "overflow": null,
            "overflow_x": null,
            "overflow_y": null,
            "padding": null,
            "right": null,
            "top": null,
            "visibility": null,
            "width": null
          }
        },
        "c0596f307fe44db9b68932ccfe57d136": {
          "model_module": "@jupyter-widgets/controls",
          "model_name": "ProgressStyleModel",
          "model_module_version": "1.5.0",
          "state": {
            "_model_module": "@jupyter-widgets/controls",
            "_model_module_version": "1.5.0",
            "_model_name": "ProgressStyleModel",
            "_view_count": null,
            "_view_module": "@jupyter-widgets/base",
            "_view_module_version": "1.2.0",
            "_view_name": "StyleView",
            "bar_color": null,
            "description_width": ""
          }
        },
        "0b6a7357e1b94fb09141f948228fc366": {
          "model_module": "@jupyter-widgets/base",
          "model_name": "LayoutModel",
          "model_module_version": "1.2.0",
          "state": {
            "_model_module": "@jupyter-widgets/base",
            "_model_module_version": "1.2.0",
            "_model_name": "LayoutModel",
            "_view_count": null,
            "_view_module": "@jupyter-widgets/base",
            "_view_module_version": "1.2.0",
            "_view_name": "LayoutView",
            "align_content": null,
            "align_items": null,
            "align_self": null,
            "border": null,
            "bottom": null,
            "display": null,
            "flex": null,
            "flex_flow": null,
            "grid_area": null,
            "grid_auto_columns": null,
            "grid_auto_flow": null,
            "grid_auto_rows": null,
            "grid_column": null,
            "grid_gap": null,
            "grid_row": null,
            "grid_template_areas": null,
            "grid_template_columns": null,
            "grid_template_rows": null,
            "height": null,
            "justify_content": null,
            "justify_items": null,
            "left": null,
            "margin": null,
            "max_height": null,
            "max_width": null,
            "min_height": null,
            "min_width": null,
            "object_fit": null,
            "object_position": null,
            "order": null,
            "overflow": null,
            "overflow_x": null,
            "overflow_y": null,
            "padding": null,
            "right": null,
            "top": null,
            "visibility": null,
            "width": null
          }
        },
        "2373c3f442a345eaa08cf7e4eb896230": {
          "model_module": "@jupyter-widgets/controls",
          "model_name": "DescriptionStyleModel",
          "model_module_version": "1.5.0",
          "state": {
            "_model_module": "@jupyter-widgets/controls",
            "_model_module_version": "1.5.0",
            "_model_name": "DescriptionStyleModel",
            "_view_count": null,
            "_view_module": "@jupyter-widgets/base",
            "_view_module_version": "1.2.0",
            "_view_name": "StyleView",
            "description_width": ""
          }
        },
        "18ba1606d8174a34b8405cd30ff17ab9": {
          "model_module": "@jupyter-widgets/controls",
          "model_name": "HBoxModel",
          "model_module_version": "1.5.0",
          "state": {
            "_dom_classes": [],
            "_model_module": "@jupyter-widgets/controls",
            "_model_module_version": "1.5.0",
            "_model_name": "HBoxModel",
            "_view_count": null,
            "_view_module": "@jupyter-widgets/controls",
            "_view_module_version": "1.5.0",
            "_view_name": "HBoxView",
            "box_style": "",
            "children": [
              "IPY_MODEL_6bddd703f1d54bf4a6d7cdc1bb3d3a91",
              "IPY_MODEL_ef50c12b1357424b8fcfa8188090e05f",
              "IPY_MODEL_659fef84bb0c429b9dbb2d5a7307a818"
            ],
            "layout": "IPY_MODEL_f8d3d4e57dfa447ab1c26f24530d5ccc"
          }
        },
        "6bddd703f1d54bf4a6d7cdc1bb3d3a91": {
          "model_module": "@jupyter-widgets/controls",
          "model_name": "HTMLModel",
          "model_module_version": "1.5.0",
          "state": {
            "_dom_classes": [],
            "_model_module": "@jupyter-widgets/controls",
            "_model_module_version": "1.5.0",
            "_model_name": "HTMLModel",
            "_view_count": null,
            "_view_module": "@jupyter-widgets/controls",
            "_view_module_version": "1.5.0",
            "_view_name": "HTMLView",
            "description": "",
            "description_tooltip": null,
            "layout": "IPY_MODEL_7c2e0ace6d8e486ab857ba1922eb0c31",
            "placeholder": "​",
            "style": "IPY_MODEL_59fcfef96fb44da9b2947c1fb346855e",
            "value": "special_tokens_map.json: 100%"
          }
        },
        "ef50c12b1357424b8fcfa8188090e05f": {
          "model_module": "@jupyter-widgets/controls",
          "model_name": "FloatProgressModel",
          "model_module_version": "1.5.0",
          "state": {
            "_dom_classes": [],
            "_model_module": "@jupyter-widgets/controls",
            "_model_module_version": "1.5.0",
            "_model_name": "FloatProgressModel",
            "_view_count": null,
            "_view_module": "@jupyter-widgets/controls",
            "_view_module_version": "1.5.0",
            "_view_name": "ProgressView",
            "bar_style": "success",
            "description": "",
            "description_tooltip": null,
            "layout": "IPY_MODEL_7acbca954159482a9ea1e4b49b48397c",
            "max": 112,
            "min": 0,
            "orientation": "horizontal",
            "style": "IPY_MODEL_ede0e90d9d614ac6aa14b19af2d901ad",
            "value": 112
          }
        },
        "659fef84bb0c429b9dbb2d5a7307a818": {
          "model_module": "@jupyter-widgets/controls",
          "model_name": "HTMLModel",
          "model_module_version": "1.5.0",
          "state": {
            "_dom_classes": [],
            "_model_module": "@jupyter-widgets/controls",
            "_model_module_version": "1.5.0",
            "_model_name": "HTMLModel",
            "_view_count": null,
            "_view_module": "@jupyter-widgets/controls",
            "_view_module_version": "1.5.0",
            "_view_name": "HTMLView",
            "description": "",
            "description_tooltip": null,
            "layout": "IPY_MODEL_d856f039296040a9a706bb64e721cb37",
            "placeholder": "​",
            "style": "IPY_MODEL_4aff7e73eb2e49b188a277a1d68a6659",
            "value": " 112/112 [00:00&lt;00:00, 6.24kB/s]"
          }
        },
        "f8d3d4e57dfa447ab1c26f24530d5ccc": {
          "model_module": "@jupyter-widgets/base",
          "model_name": "LayoutModel",
          "model_module_version": "1.2.0",
          "state": {
            "_model_module": "@jupyter-widgets/base",
            "_model_module_version": "1.2.0",
            "_model_name": "LayoutModel",
            "_view_count": null,
            "_view_module": "@jupyter-widgets/base",
            "_view_module_version": "1.2.0",
            "_view_name": "LayoutView",
            "align_content": null,
            "align_items": null,
            "align_self": null,
            "border": null,
            "bottom": null,
            "display": null,
            "flex": null,
            "flex_flow": null,
            "grid_area": null,
            "grid_auto_columns": null,
            "grid_auto_flow": null,
            "grid_auto_rows": null,
            "grid_column": null,
            "grid_gap": null,
            "grid_row": null,
            "grid_template_areas": null,
            "grid_template_columns": null,
            "grid_template_rows": null,
            "height": null,
            "justify_content": null,
            "justify_items": null,
            "left": null,
            "margin": null,
            "max_height": null,
            "max_width": null,
            "min_height": null,
            "min_width": null,
            "object_fit": null,
            "object_position": null,
            "order": null,
            "overflow": null,
            "overflow_x": null,
            "overflow_y": null,
            "padding": null,
            "right": null,
            "top": null,
            "visibility": null,
            "width": null
          }
        },
        "7c2e0ace6d8e486ab857ba1922eb0c31": {
          "model_module": "@jupyter-widgets/base",
          "model_name": "LayoutModel",
          "model_module_version": "1.2.0",
          "state": {
            "_model_module": "@jupyter-widgets/base",
            "_model_module_version": "1.2.0",
            "_model_name": "LayoutModel",
            "_view_count": null,
            "_view_module": "@jupyter-widgets/base",
            "_view_module_version": "1.2.0",
            "_view_name": "LayoutView",
            "align_content": null,
            "align_items": null,
            "align_self": null,
            "border": null,
            "bottom": null,
            "display": null,
            "flex": null,
            "flex_flow": null,
            "grid_area": null,
            "grid_auto_columns": null,
            "grid_auto_flow": null,
            "grid_auto_rows": null,
            "grid_column": null,
            "grid_gap": null,
            "grid_row": null,
            "grid_template_areas": null,
            "grid_template_columns": null,
            "grid_template_rows": null,
            "height": null,
            "justify_content": null,
            "justify_items": null,
            "left": null,
            "margin": null,
            "max_height": null,
            "max_width": null,
            "min_height": null,
            "min_width": null,
            "object_fit": null,
            "object_position": null,
            "order": null,
            "overflow": null,
            "overflow_x": null,
            "overflow_y": null,
            "padding": null,
            "right": null,
            "top": null,
            "visibility": null,
            "width": null
          }
        },
        "59fcfef96fb44da9b2947c1fb346855e": {
          "model_module": "@jupyter-widgets/controls",
          "model_name": "DescriptionStyleModel",
          "model_module_version": "1.5.0",
          "state": {
            "_model_module": "@jupyter-widgets/controls",
            "_model_module_version": "1.5.0",
            "_model_name": "DescriptionStyleModel",
            "_view_count": null,
            "_view_module": "@jupyter-widgets/base",
            "_view_module_version": "1.2.0",
            "_view_name": "StyleView",
            "description_width": ""
          }
        },
        "7acbca954159482a9ea1e4b49b48397c": {
          "model_module": "@jupyter-widgets/base",
          "model_name": "LayoutModel",
          "model_module_version": "1.2.0",
          "state": {
            "_model_module": "@jupyter-widgets/base",
            "_model_module_version": "1.2.0",
            "_model_name": "LayoutModel",
            "_view_count": null,
            "_view_module": "@jupyter-widgets/base",
            "_view_module_version": "1.2.0",
            "_view_name": "LayoutView",
            "align_content": null,
            "align_items": null,
            "align_self": null,
            "border": null,
            "bottom": null,
            "display": null,
            "flex": null,
            "flex_flow": null,
            "grid_area": null,
            "grid_auto_columns": null,
            "grid_auto_flow": null,
            "grid_auto_rows": null,
            "grid_column": null,
            "grid_gap": null,
            "grid_row": null,
            "grid_template_areas": null,
            "grid_template_columns": null,
            "grid_template_rows": null,
            "height": null,
            "justify_content": null,
            "justify_items": null,
            "left": null,
            "margin": null,
            "max_height": null,
            "max_width": null,
            "min_height": null,
            "min_width": null,
            "object_fit": null,
            "object_position": null,
            "order": null,
            "overflow": null,
            "overflow_x": null,
            "overflow_y": null,
            "padding": null,
            "right": null,
            "top": null,
            "visibility": null,
            "width": null
          }
        },
        "ede0e90d9d614ac6aa14b19af2d901ad": {
          "model_module": "@jupyter-widgets/controls",
          "model_name": "ProgressStyleModel",
          "model_module_version": "1.5.0",
          "state": {
            "_model_module": "@jupyter-widgets/controls",
            "_model_module_version": "1.5.0",
            "_model_name": "ProgressStyleModel",
            "_view_count": null,
            "_view_module": "@jupyter-widgets/base",
            "_view_module_version": "1.2.0",
            "_view_name": "StyleView",
            "bar_color": null,
            "description_width": ""
          }
        },
        "d856f039296040a9a706bb64e721cb37": {
          "model_module": "@jupyter-widgets/base",
          "model_name": "LayoutModel",
          "model_module_version": "1.2.0",
          "state": {
            "_model_module": "@jupyter-widgets/base",
            "_model_module_version": "1.2.0",
            "_model_name": "LayoutModel",
            "_view_count": null,
            "_view_module": "@jupyter-widgets/base",
            "_view_module_version": "1.2.0",
            "_view_name": "LayoutView",
            "align_content": null,
            "align_items": null,
            "align_self": null,
            "border": null,
            "bottom": null,
            "display": null,
            "flex": null,
            "flex_flow": null,
            "grid_area": null,
            "grid_auto_columns": null,
            "grid_auto_flow": null,
            "grid_auto_rows": null,
            "grid_column": null,
            "grid_gap": null,
            "grid_row": null,
            "grid_template_areas": null,
            "grid_template_columns": null,
            "grid_template_rows": null,
            "height": null,
            "justify_content": null,
            "justify_items": null,
            "left": null,
            "margin": null,
            "max_height": null,
            "max_width": null,
            "min_height": null,
            "min_width": null,
            "object_fit": null,
            "object_position": null,
            "order": null,
            "overflow": null,
            "overflow_x": null,
            "overflow_y": null,
            "padding": null,
            "right": null,
            "top": null,
            "visibility": null,
            "width": null
          }
        },
        "4aff7e73eb2e49b188a277a1d68a6659": {
          "model_module": "@jupyter-widgets/controls",
          "model_name": "DescriptionStyleModel",
          "model_module_version": "1.5.0",
          "state": {
            "_model_module": "@jupyter-widgets/controls",
            "_model_module_version": "1.5.0",
            "_model_name": "DescriptionStyleModel",
            "_view_count": null,
            "_view_module": "@jupyter-widgets/base",
            "_view_module_version": "1.2.0",
            "_view_name": "StyleView",
            "description_width": ""
          }
        },
        "0e25757c9d734fe689cfb5583cde06f8": {
          "model_module": "@jupyter-widgets/controls",
          "model_name": "HBoxModel",
          "model_module_version": "1.5.0",
          "state": {
            "_dom_classes": [],
            "_model_module": "@jupyter-widgets/controls",
            "_model_module_version": "1.5.0",
            "_model_name": "HBoxModel",
            "_view_count": null,
            "_view_module": "@jupyter-widgets/controls",
            "_view_module_version": "1.5.0",
            "_view_name": "HBoxView",
            "box_style": "",
            "children": [
              "IPY_MODEL_233cdb7e06d4494a976a0442648d6e18",
              "IPY_MODEL_c10cf51ed4254f67b397d39111e9fcf7",
              "IPY_MODEL_077d02b93e3044ac8d2806040544ea1f"
            ],
            "layout": "IPY_MODEL_d65366fa7f304d86a595eaad35f12c8f"
          }
        },
        "233cdb7e06d4494a976a0442648d6e18": {
          "model_module": "@jupyter-widgets/controls",
          "model_name": "HTMLModel",
          "model_module_version": "1.5.0",
          "state": {
            "_dom_classes": [],
            "_model_module": "@jupyter-widgets/controls",
            "_model_module_version": "1.5.0",
            "_model_name": "HTMLModel",
            "_view_count": null,
            "_view_module": "@jupyter-widgets/controls",
            "_view_module_version": "1.5.0",
            "_view_name": "HTMLView",
            "description": "",
            "description_tooltip": null,
            "layout": "IPY_MODEL_87bb0810103942ec9584f9a205536b77",
            "placeholder": "​",
            "style": "IPY_MODEL_c2674e3866aa47a799d851ef6419c340",
            "value": "1_Pooling/config.json: 100%"
          }
        },
        "c10cf51ed4254f67b397d39111e9fcf7": {
          "model_module": "@jupyter-widgets/controls",
          "model_name": "FloatProgressModel",
          "model_module_version": "1.5.0",
          "state": {
            "_dom_classes": [],
            "_model_module": "@jupyter-widgets/controls",
            "_model_module_version": "1.5.0",
            "_model_name": "FloatProgressModel",
            "_view_count": null,
            "_view_module": "@jupyter-widgets/controls",
            "_view_module_version": "1.5.0",
            "_view_name": "ProgressView",
            "bar_style": "success",
            "description": "",
            "description_tooltip": null,
            "layout": "IPY_MODEL_b5a1cc0a66bb42cfa88d3bd1eba994e8",
            "max": 190,
            "min": 0,
            "orientation": "horizontal",
            "style": "IPY_MODEL_09e14083125a48a4adb0b725d409f989",
            "value": 190
          }
        },
        "077d02b93e3044ac8d2806040544ea1f": {
          "model_module": "@jupyter-widgets/controls",
          "model_name": "HTMLModel",
          "model_module_version": "1.5.0",
          "state": {
            "_dom_classes": [],
            "_model_module": "@jupyter-widgets/controls",
            "_model_module_version": "1.5.0",
            "_model_name": "HTMLModel",
            "_view_count": null,
            "_view_module": "@jupyter-widgets/controls",
            "_view_module_version": "1.5.0",
            "_view_name": "HTMLView",
            "description": "",
            "description_tooltip": null,
            "layout": "IPY_MODEL_d76274c58fd046289d66cdf70c3367ac",
            "placeholder": "​",
            "style": "IPY_MODEL_310a75fff3954289b6c7e34529a18574",
            "value": " 190/190 [00:00&lt;00:00, 8.64kB/s]"
          }
        },
        "d65366fa7f304d86a595eaad35f12c8f": {
          "model_module": "@jupyter-widgets/base",
          "model_name": "LayoutModel",
          "model_module_version": "1.2.0",
          "state": {
            "_model_module": "@jupyter-widgets/base",
            "_model_module_version": "1.2.0",
            "_model_name": "LayoutModel",
            "_view_count": null,
            "_view_module": "@jupyter-widgets/base",
            "_view_module_version": "1.2.0",
            "_view_name": "LayoutView",
            "align_content": null,
            "align_items": null,
            "align_self": null,
            "border": null,
            "bottom": null,
            "display": null,
            "flex": null,
            "flex_flow": null,
            "grid_area": null,
            "grid_auto_columns": null,
            "grid_auto_flow": null,
            "grid_auto_rows": null,
            "grid_column": null,
            "grid_gap": null,
            "grid_row": null,
            "grid_template_areas": null,
            "grid_template_columns": null,
            "grid_template_rows": null,
            "height": null,
            "justify_content": null,
            "justify_items": null,
            "left": null,
            "margin": null,
            "max_height": null,
            "max_width": null,
            "min_height": null,
            "min_width": null,
            "object_fit": null,
            "object_position": null,
            "order": null,
            "overflow": null,
            "overflow_x": null,
            "overflow_y": null,
            "padding": null,
            "right": null,
            "top": null,
            "visibility": null,
            "width": null
          }
        },
        "87bb0810103942ec9584f9a205536b77": {
          "model_module": "@jupyter-widgets/base",
          "model_name": "LayoutModel",
          "model_module_version": "1.2.0",
          "state": {
            "_model_module": "@jupyter-widgets/base",
            "_model_module_version": "1.2.0",
            "_model_name": "LayoutModel",
            "_view_count": null,
            "_view_module": "@jupyter-widgets/base",
            "_view_module_version": "1.2.0",
            "_view_name": "LayoutView",
            "align_content": null,
            "align_items": null,
            "align_self": null,
            "border": null,
            "bottom": null,
            "display": null,
            "flex": null,
            "flex_flow": null,
            "grid_area": null,
            "grid_auto_columns": null,
            "grid_auto_flow": null,
            "grid_auto_rows": null,
            "grid_column": null,
            "grid_gap": null,
            "grid_row": null,
            "grid_template_areas": null,
            "grid_template_columns": null,
            "grid_template_rows": null,
            "height": null,
            "justify_content": null,
            "justify_items": null,
            "left": null,
            "margin": null,
            "max_height": null,
            "max_width": null,
            "min_height": null,
            "min_width": null,
            "object_fit": null,
            "object_position": null,
            "order": null,
            "overflow": null,
            "overflow_x": null,
            "overflow_y": null,
            "padding": null,
            "right": null,
            "top": null,
            "visibility": null,
            "width": null
          }
        },
        "c2674e3866aa47a799d851ef6419c340": {
          "model_module": "@jupyter-widgets/controls",
          "model_name": "DescriptionStyleModel",
          "model_module_version": "1.5.0",
          "state": {
            "_model_module": "@jupyter-widgets/controls",
            "_model_module_version": "1.5.0",
            "_model_name": "DescriptionStyleModel",
            "_view_count": null,
            "_view_module": "@jupyter-widgets/base",
            "_view_module_version": "1.2.0",
            "_view_name": "StyleView",
            "description_width": ""
          }
        },
        "b5a1cc0a66bb42cfa88d3bd1eba994e8": {
          "model_module": "@jupyter-widgets/base",
          "model_name": "LayoutModel",
          "model_module_version": "1.2.0",
          "state": {
            "_model_module": "@jupyter-widgets/base",
            "_model_module_version": "1.2.0",
            "_model_name": "LayoutModel",
            "_view_count": null,
            "_view_module": "@jupyter-widgets/base",
            "_view_module_version": "1.2.0",
            "_view_name": "LayoutView",
            "align_content": null,
            "align_items": null,
            "align_self": null,
            "border": null,
            "bottom": null,
            "display": null,
            "flex": null,
            "flex_flow": null,
            "grid_area": null,
            "grid_auto_columns": null,
            "grid_auto_flow": null,
            "grid_auto_rows": null,
            "grid_column": null,
            "grid_gap": null,
            "grid_row": null,
            "grid_template_areas": null,
            "grid_template_columns": null,
            "grid_template_rows": null,
            "height": null,
            "justify_content": null,
            "justify_items": null,
            "left": null,
            "margin": null,
            "max_height": null,
            "max_width": null,
            "min_height": null,
            "min_width": null,
            "object_fit": null,
            "object_position": null,
            "order": null,
            "overflow": null,
            "overflow_x": null,
            "overflow_y": null,
            "padding": null,
            "right": null,
            "top": null,
            "visibility": null,
            "width": null
          }
        },
        "09e14083125a48a4adb0b725d409f989": {
          "model_module": "@jupyter-widgets/controls",
          "model_name": "ProgressStyleModel",
          "model_module_version": "1.5.0",
          "state": {
            "_model_module": "@jupyter-widgets/controls",
            "_model_module_version": "1.5.0",
            "_model_name": "ProgressStyleModel",
            "_view_count": null,
            "_view_module": "@jupyter-widgets/base",
            "_view_module_version": "1.2.0",
            "_view_name": "StyleView",
            "bar_color": null,
            "description_width": ""
          }
        },
        "d76274c58fd046289d66cdf70c3367ac": {
          "model_module": "@jupyter-widgets/base",
          "model_name": "LayoutModel",
          "model_module_version": "1.2.0",
          "state": {
            "_model_module": "@jupyter-widgets/base",
            "_model_module_version": "1.2.0",
            "_model_name": "LayoutModel",
            "_view_count": null,
            "_view_module": "@jupyter-widgets/base",
            "_view_module_version": "1.2.0",
            "_view_name": "LayoutView",
            "align_content": null,
            "align_items": null,
            "align_self": null,
            "border": null,
            "bottom": null,
            "display": null,
            "flex": null,
            "flex_flow": null,
            "grid_area": null,
            "grid_auto_columns": null,
            "grid_auto_flow": null,
            "grid_auto_rows": null,
            "grid_column": null,
            "grid_gap": null,
            "grid_row": null,
            "grid_template_areas": null,
            "grid_template_columns": null,
            "grid_template_rows": null,
            "height": null,
            "justify_content": null,
            "justify_items": null,
            "left": null,
            "margin": null,
            "max_height": null,
            "max_width": null,
            "min_height": null,
            "min_width": null,
            "object_fit": null,
            "object_position": null,
            "order": null,
            "overflow": null,
            "overflow_x": null,
            "overflow_y": null,
            "padding": null,
            "right": null,
            "top": null,
            "visibility": null,
            "width": null
          }
        },
        "310a75fff3954289b6c7e34529a18574": {
          "model_module": "@jupyter-widgets/controls",
          "model_name": "DescriptionStyleModel",
          "model_module_version": "1.5.0",
          "state": {
            "_model_module": "@jupyter-widgets/controls",
            "_model_module_version": "1.5.0",
            "_model_name": "DescriptionStyleModel",
            "_view_count": null,
            "_view_module": "@jupyter-widgets/base",
            "_view_module_version": "1.2.0",
            "_view_name": "StyleView",
            "description_width": ""
          }
        }
      }
    }
  },
  "cells": [
    {
      "cell_type": "markdown",
      "source": [
        "# Prompt Engineering with Gemini"
      ],
      "metadata": {
        "id": "ha_MNyL_WAj7"
      }
    },
    {
      "cell_type": "markdown",
      "source": [
        "## Setting up the environment"
      ],
      "metadata": {
        "id": "HtutUrhhWI68"
      }
    },
    {
      "cell_type": "code",
      "execution_count": 4,
      "metadata": {
        "id": "Ntl13Y3oVM1a"
      },
      "outputs": [],
      "source": [
        "!pip install -q -U google-generativeai"
      ]
    },
    {
      "cell_type": "code",
      "source": [
        "import pathlib\n",
        "import textwrap\n",
        "\n",
        "import google.generativeai as genai\n",
        "\n",
        "from IPython.display import display\n",
        "from IPython.display import Markdown\n",
        "\n",
        "from google.colab import userdata\n",
        "\n",
        "def to_markdown(text):\n",
        "  text = text.replace('•', '  *')\n",
        "  return Markdown(textwrap.indent(text, '> ', predicate=lambda _: True))"
      ],
      "metadata": {
        "id": "yyX8ksLhVpKo"
      },
      "execution_count": 5,
      "outputs": []
    },
    {
      "cell_type": "code",
      "source": [
        "GOOGLE_API_KEY=userdata.get('GOOGLE_API_KEY')\n",
        "genai.configure(api_key=GOOGLE_API_KEY)"
      ],
      "metadata": {
        "id": "VSgVAwAvVpvs"
      },
      "execution_count": 6,
      "outputs": []
    },
    {
      "cell_type": "markdown",
      "source": [
        "## Instantiating the model"
      ],
      "metadata": {
        "id": "337LxaeLWRUt"
      }
    },
    {
      "cell_type": "code",
      "source": [
        "model = genai.GenerativeModel('gemini-1.5-flash')"
      ],
      "metadata": {
        "id": "cUrANwXXVxzZ"
      },
      "execution_count": 7,
      "outputs": []
    },
    {
      "cell_type": "markdown",
      "source": [
        "## Prompt Engineering Techniques"
      ],
      "metadata": {
        "id": "8Vo-WEIqWUiy"
      }
    },
    {
      "cell_type": "markdown",
      "source": [
        "### Zero-shot"
      ],
      "metadata": {
        "id": "9cgcNVP7WbiE"
      }
    },
    {
      "cell_type": "code",
      "source": [
        "prompt = \"\"\"Classify the sentence into neutral, negative or positive.\n",
        "Text: We loved the movie we watched last night!\n",
        "Sentiment:\"\"\"\n",
        "response = model.generate_content(prompt)"
      ],
      "metadata": {
        "id": "_LPsTGfRV03T"
      },
      "execution_count": 8,
      "outputs": []
    },
    {
      "cell_type": "code",
      "source": [
        "to_markdown(response.text)"
      ],
      "metadata": {
        "colab": {
          "base_uri": "https://localhost:8080/",
          "height": 62
        },
        "id": "KpG7-RqjV20l",
        "outputId": "e9986f3b-efbc-4ee3-97d1-2fcf0c948929"
      },
      "execution_count": 9,
      "outputs": [
        {
          "output_type": "execute_result",
          "data": {
            "text/plain": [
              "<IPython.core.display.Markdown object>"
            ],
            "text/markdown": "> Sentiment: Positive\n"
          },
          "metadata": {},
          "execution_count": 9
        }
      ]
    },
    {
      "cell_type": "markdown",
      "source": [
        "### Few-shot"
      ],
      "metadata": {
        "id": "Xkiu7W5iV5X4"
      }
    },
    {
      "cell_type": "markdown",
      "source": [
        "#### Without Few-Shot"
      ],
      "metadata": {
        "id": "g7mMxM1qrKll"
      }
    },
    {
      "cell_type": "code",
      "source": [
        "prompt = \"\"\"Classify the sentence into lpopolp, or aufhudsh following the examples provided. Don't provide any explanation.\n",
        "Text: For me, it was one of the best movies I watched in my whole life.\"\"\"\n",
        "response = model.generate_content(prompt)\n",
        "to_markdown(response.text)"
      ],
      "metadata": {
        "colab": {
          "base_uri": "https://localhost:8080/",
          "height": 62
        },
        "id": "9OHPRqbqrGyL",
        "outputId": "c8427367-c342-4f9b-ce1d-3baa13ba9468"
      },
      "execution_count": 10,
      "outputs": [
        {
          "output_type": "execute_result",
          "data": {
            "text/plain": [
              "<IPython.core.display.Markdown object>"
            ],
            "text/markdown": "> lpopolp\n"
          },
          "metadata": {},
          "execution_count": 10
        }
      ]
    },
    {
      "cell_type": "markdown",
      "source": [
        "#### With Few-Shot"
      ],
      "metadata": {
        "id": "fQHqVA5xrVPa"
      }
    },
    {
      "cell_type": "code",
      "source": [
        "prompt = \"\"\"Classify the sentence into lpopolp, or aufhudsh following the examples provided. Don't provide any explanation.\n",
        "Text: We loved the movie we watched last night!\n",
        "Sentiment: lpopolp\n",
        "Text: Bro, I hated the movie!\n",
        "Sentiment: aufhudsh\n",
        "Text: For me, it was one of the best movies I watched in my whole life.\"\"\"\n",
        "response = model.generate_content(prompt)\n",
        "to_markdown(response.text)"
      ],
      "metadata": {
        "id": "nntoiZJnXX7E",
        "colab": {
          "base_uri": "https://localhost:8080/",
          "height": 62
        },
        "outputId": "ce3aa5bf-dc3b-4643-e171-e46cc58cc2eb"
      },
      "execution_count": 11,
      "outputs": [
        {
          "output_type": "execute_result",
          "data": {
            "text/plain": [
              "<IPython.core.display.Markdown object>"
            ],
            "text/markdown": "> lpopolp\n"
          },
          "metadata": {},
          "execution_count": 11
        }
      ]
    },
    {
      "cell_type": "markdown",
      "source": [],
      "metadata": {
        "id": "rvs1zQ0Bb1PY"
      }
    },
    {
      "cell_type": "markdown",
      "source": [
        "### Retrieval Augmented Generation"
      ],
      "metadata": {
        "id": "aTOoMWHuXrsd"
      }
    },
    {
      "cell_type": "markdown",
      "source": [
        "#### Without RAG"
      ],
      "metadata": {
        "id": "YyZz3JEnXulI"
      }
    },
    {
      "cell_type": "code",
      "source": [
        "prompt = \"\"\"Who were the authors of pymatting library?\"\"\"\n",
        "response = model.generate_content(prompt)"
      ],
      "metadata": {
        "id": "u0jhvQdMYGti"
      },
      "execution_count": 12,
      "outputs": []
    },
    {
      "cell_type": "code",
      "source": [
        "to_markdown(response.text)"
      ],
      "metadata": {
        "colab": {
          "base_uri": "https://localhost:8080/",
          "height": 80
        },
        "id": "zlxBKqeQYLb6",
        "outputId": "39dfbdb9-f076-4d86-c50d-b6ada7386d2d"
      },
      "execution_count": 13,
      "outputs": [
        {
          "output_type": "execute_result",
          "data": {
            "text/plain": [
              "<IPython.core.display.Markdown object>"
            ],
            "text/markdown": "> The primary author of the PyMatting library is **Raymond Yeh**.  While others may have contributed, he's credited as the main developer and driving force behind the project.\n"
          },
          "metadata": {},
          "execution_count": 13
        }
      ]
    },
    {
      "cell_type": "markdown",
      "source": [
        "#### With RAG"
      ],
      "metadata": {
        "id": "uLeNC29TYMUY"
      }
    },
    {
      "cell_type": "code",
      "source": [
        "!pip install sentence-transformers faiss-cpu -qq"
      ],
      "metadata": {
        "colab": {
          "base_uri": "https://localhost:8080/"
        },
        "id": "l7VjiTVsYuK0",
        "outputId": "fce48e7d-1b2b-4613-86e1-3a92de95f528"
      },
      "execution_count": 14,
      "outputs": [
        {
          "output_type": "stream",
          "name": "stdout",
          "text": [
            "\u001b[?25l   \u001b[90m━━━━━━━━━━━━━━━━━━━━━━━━━━━━━━━━━━━━━━━━\u001b[0m \u001b[32m0.0/27.5 MB\u001b[0m \u001b[31m?\u001b[0m eta \u001b[36m-:--:--\u001b[0m\r\u001b[2K   \u001b[91m━━━━━━━\u001b[0m\u001b[90m╺\u001b[0m\u001b[90m━━━━━━━━━━━━━━━━━━━━━━━━━━━━━━━━\u001b[0m \u001b[32m4.8/27.5 MB\u001b[0m \u001b[31m145.7 MB/s\u001b[0m eta \u001b[36m0:00:01\u001b[0m\r\u001b[2K   \u001b[91m━━━━━━━━━━━━━━━\u001b[0m\u001b[91m╸\u001b[0m\u001b[90m━━━━━━━━━━━━━━━━━━━━━━━━\u001b[0m \u001b[32m10.8/27.5 MB\u001b[0m \u001b[31m168.6 MB/s\u001b[0m eta \u001b[36m0:00:01\u001b[0m\r\u001b[2K   \u001b[91m━━━━━━━━━━━━━━━━━━━━━━━\u001b[0m\u001b[91m╸\u001b[0m\u001b[90m━━━━━━━━━━━━━━━━\u001b[0m \u001b[32m16.5/27.5 MB\u001b[0m \u001b[31m165.6 MB/s\u001b[0m eta \u001b[36m0:00:01\u001b[0m\r\u001b[2K   \u001b[91m━━━━━━━━━━━━━━━━━━━━━━━━━━━━━━━━\u001b[0m\u001b[91m╸\u001b[0m\u001b[90m━━━━━━━\u001b[0m \u001b[32m22.4/27.5 MB\u001b[0m \u001b[31m165.6 MB/s\u001b[0m eta \u001b[36m0:00:01\u001b[0m\r\u001b[2K   \u001b[91m━━━━━━━━━━━━━━━━━━━━━━━━━━━━━━━━━━━━━━━\u001b[0m\u001b[91m╸\u001b[0m \u001b[32m27.5/27.5 MB\u001b[0m \u001b[31m181.1 MB/s\u001b[0m eta \u001b[36m0:00:01\u001b[0m\r\u001b[2K   \u001b[91m━━━━━━━━━━━━━━━━━━━━━━━━━━━━━━━━━━━━━━━\u001b[0m\u001b[91m╸\u001b[0m \u001b[32m27.5/27.5 MB\u001b[0m \u001b[31m181.1 MB/s\u001b[0m eta \u001b[36m0:00:01\u001b[0m\r\u001b[2K   \u001b[91m━━━━━━━━━━━━━━━━━━━━━━━━━━━━━━━━━━━━━━━\u001b[0m\u001b[91m╸\u001b[0m \u001b[32m27.5/27.5 MB\u001b[0m \u001b[31m181.1 MB/s\u001b[0m eta \u001b[36m0:00:01\u001b[0m\r\u001b[2K   \u001b[90m━━━━━━━━━━━━━━━━━━━━━━━━━━━━━━━━━━━━━━━━\u001b[0m \u001b[32m27.5/27.5 MB\u001b[0m \u001b[31m65.9 MB/s\u001b[0m eta \u001b[36m0:00:00\u001b[0m\n",
            "\u001b[?25h"
          ]
        }
      ]
    },
    {
      "cell_type": "code",
      "source": [
        "import os\n",
        "\n",
        "import markdown\n",
        "import faiss\n",
        "import torch\n",
        "from bs4 import BeautifulSoup\n",
        "from sentence_transformers import SentenceTransformer"
      ],
      "metadata": {
        "id": "_udzREhVZWXl"
      },
      "execution_count": 15,
      "outputs": []
    },
    {
      "cell_type": "markdown",
      "source": [
        "##### Downloading your documents"
      ],
      "metadata": {
        "id": "xDgqzXULbe3t"
      }
    },
    {
      "cell_type": "code",
      "source": [
        "!mkdir readmes\n",
        "!wget https://huggingface.co/datasets/pedrogengo/readmes/raw/main/transformer.md -O readmes/transformer.md\n",
        "!wget https://huggingface.co/datasets/pedrogengo/readmes/raw/main/pymatting.md -O readmes/pymatting.md\n",
        "!wget https://huggingface.co/datasets/pedrogengo/readmes/raw/main/yolo.md -O readmes/yolo.md"
      ],
      "metadata": {
        "colab": {
          "base_uri": "https://localhost:8080/"
        },
        "id": "licBJ_UOZPSp",
        "outputId": "6ad5f024-0911-4420-a72a-aadce7596f31"
      },
      "execution_count": 16,
      "outputs": [
        {
          "output_type": "stream",
          "name": "stdout",
          "text": [
            "--2024-11-23 05:20:49--  https://huggingface.co/datasets/pedrogengo/readmes/raw/main/transformer.md\n",
            "Resolving huggingface.co (huggingface.co)... 3.167.112.38, 3.167.112.25, 3.167.112.96, ...\n",
            "Connecting to huggingface.co (huggingface.co)|3.167.112.38|:443... connected.\n",
            "HTTP request sent, awaiting response... 200 OK\n",
            "Length: 112946 (110K) [text/plain]\n",
            "Saving to: ‘readmes/transformer.md’\n",
            "\n",
            "\rreadmes/transformer   0%[                    ]       0  --.-KB/s               \rreadmes/transformer 100%[===================>] 110.30K  --.-KB/s    in 0.006s  \n",
            "\n",
            "2024-11-23 05:20:49 (19.4 MB/s) - ‘readmes/transformer.md’ saved [112946/112946]\n",
            "\n",
            "--2024-11-23 05:20:49--  https://huggingface.co/datasets/pedrogengo/readmes/raw/main/pymatting.md\n",
            "Resolving huggingface.co (huggingface.co)... 3.167.112.38, 3.167.112.25, 3.167.112.96, ...\n",
            "Connecting to huggingface.co (huggingface.co)|3.167.112.38|:443... connected.\n",
            "HTTP request sent, awaiting response... 200 OK\n",
            "Length: 6794 (6.6K) [text/plain]\n",
            "Saving to: ‘readmes/pymatting.md’\n",
            "\n",
            "readmes/pymatting.m 100%[===================>]   6.63K  --.-KB/s    in 0s      \n",
            "\n",
            "2024-11-23 05:20:49 (2.94 GB/s) - ‘readmes/pymatting.md’ saved [6794/6794]\n",
            "\n",
            "--2024-11-23 05:20:49--  https://huggingface.co/datasets/pedrogengo/readmes/raw/main/yolo.md\n",
            "Resolving huggingface.co (huggingface.co)... 3.167.112.38, 3.167.112.25, 3.167.112.96, ...\n",
            "Connecting to huggingface.co (huggingface.co)|3.167.112.38|:443... connected.\n",
            "HTTP request sent, awaiting response... 200 OK\n",
            "Length: 15006 (15K) [text/plain]\n",
            "Saving to: ‘readmes/yolo.md’\n",
            "\n",
            "readmes/yolo.md     100%[===================>]  14.65K  --.-KB/s    in 0s      \n",
            "\n",
            "2024-11-23 05:20:49 (162 MB/s) - ‘readmes/yolo.md’ saved [15006/15006]\n",
            "\n"
          ]
        }
      ]
    },
    {
      "cell_type": "markdown",
      "source": [
        "##### Splitting your documents"
      ],
      "metadata": {
        "id": "Gj82oa3tbmXI"
      }
    },
    {
      "cell_type": "code",
      "source": [
        "device = torch.device(\"cuda\" if torch.cuda.is_available() else \"cpu\")"
      ],
      "metadata": {
        "id": "nn1h8yLJZTun"
      },
      "execution_count": 17,
      "outputs": []
    },
    {
      "cell_type": "code",
      "source": [
        "def md_to_text(md):\n",
        "    html = markdown.markdown(md)\n",
        "    soup = BeautifulSoup(html, features='html.parser')\n",
        "    return soup.get_text()\n",
        "\n",
        "def split_text(document_path, chunk_size, overlap):\n",
        "  with open(document_path, 'r', encoding='utf-8') as file:\n",
        "        content = file.read()\n",
        "\n",
        "  content = md_to_text(content)\n",
        "  chunks = []\n",
        "  for i in range(0, len(content), chunk_size):\n",
        "    chunk = document_path + content[max(0, i-overlap):min(len(content), i+chunk_size)] #pymatting.md content[0:100]. -> pymatting.md content[100:200] ...\n",
        "    chunks.append(chunk)\n",
        "  return chunks"
      ],
      "metadata": {
        "id": "ROF55r1ZZXW2"
      },
      "execution_count": 18,
      "outputs": []
    },
    {
      "cell_type": "code",
      "source": [
        "readmes_dir = \"readmes\"\n",
        "chunk_size = 1000\n",
        "overlap = 200\n",
        "\n",
        "all_chunks = []\n",
        "for f in os.listdir(readmes_dir):\n",
        "  if f[-2:] == \"md\":\n",
        "    all_chunks += split_text(os.path.join(readmes_dir, f), chunk_size, overlap)"
      ],
      "metadata": {
        "id": "i_UkM8EBZaF6"
      },
      "execution_count": 19,
      "outputs": []
    },
    {
      "cell_type": "code",
      "source": [
        "len(all_chunks)"
      ],
      "metadata": {
        "colab": {
          "base_uri": "https://localhost:8080/"
        },
        "id": "-XDUCuSSePh0",
        "outputId": "5677d4cb-608b-4c22-9f01-18c2d04ed225"
      },
      "execution_count": 20,
      "outputs": [
        {
          "output_type": "execute_result",
          "data": {
            "text/plain": [
              "91"
            ]
          },
          "metadata": {},
          "execution_count": 20
        }
      ]
    },
    {
      "cell_type": "markdown",
      "source": [
        "##### Indexing your documents"
      ],
      "metadata": {
        "id": "gXZ-Z7aMbqMQ"
      }
    },
    {
      "cell_type": "code",
      "source": [
        "embedding_model = SentenceTransformer(\"all-MiniLM-L6-v2\")\n",
        "_ = embedding_model.to(device)\n",
        "embeddings = embedding_model.encode(all_chunks)\n",
        "embeddings.shape"
      ],
      "metadata": {
        "colab": {
          "base_uri": "https://localhost:8080/",
          "height": 513,
          "referenced_widgets": [
            "58327f52dd684cd7a65d704c4becb41a",
            "2974cda9ff9e46a9925f60d3e03c1382",
            "139cd356b28841b5a419cbb39a8ad4be",
            "b1d6e8dc3a6e496994ad5946ce630539",
            "4f982a9b2a4b443285e5b8f58234cbc7",
            "42e560bdd6114351a23982b885930765",
            "d303ffc3a6c44eadaadb5189ed2955dd",
            "2ccc6a20c743420f843629b212c7d806",
            "696fbc0fa44d4f8c81f3555ee60317ef",
            "26082623851540939411d872cc16289e",
            "c7fbe8ed1c28423fb09d637593531fab",
            "22bd76beba654780a12ced5f35920de8",
            "19f5d0220de34fb4aa63244976817b15",
            "18a339e75ab240c7b2282af593f54ddb",
            "6ed41737638b4f5d99ed339ac21a36ec",
            "1b447ab7a068462daf577b545900597f",
            "d7f3ee1a683847be82202656bca5a57a",
            "871300f21ae8410aa651b405a8d0fd08",
            "9b67874fcb874cff86c1bf6f63a03c8c",
            "74b8e966513742dca8d72a5129559bc4",
            "5a5520597e1c4e9aa14862f1b8b6292c",
            "98ba34af25624eef9ad665df078776a0",
            "cbae259e93aa4dc0b9d7dfccf00bbe76",
            "82fb363187a741828796c91039fea451",
            "68d695eaa3e44302b83b2d3b3bb6a283",
            "32c9f5ec674f4ef683ce38754323210d",
            "1b8f4b9a0776470cab943434558bb7ca",
            "236c8fc479104c329ccf8c069711667f",
            "c03275c1e6fa4e22b8e542145fba7c9b",
            "e2286c69502a4275b19cc4efbd4e4ff4",
            "1fe6099b7c444a75889af9077c4dd887",
            "d71cf334bfcc4177a83ff73ea96c3334",
            "db846330dc5d44209c7cf2efeb2c95e3",
            "7c40fae776994850bbb9ee270d40dbfe",
            "6e3693fb6bf9427aa6c8037790b6db1a",
            "889df17ce42a4fce8629d960846ccb3f",
            "d1b43915ad044aaea8d229e57f325b01",
            "ec510d45eb2043258da71c485fa08c7b",
            "d5f379ce2ad748f68cade9cf7ef16ad1",
            "02684e66718140e98dcd3f75d8b62c70",
            "52d7cecd977c4cd3997213fe8a9454f1",
            "5b5246661f5d42249e1577bea1bb835e",
            "26809e6b5e7944e785bc8d36f5e73d82",
            "476b4d93aeb64fbbbc51eab51fda21d5",
            "9292fb1328f44a50973d65bffce8bf53",
            "0609172f69024b4f8c5c10adc369ecfb",
            "5f78b9b557f9409a85d63dbde8f28e5c",
            "01d76fdd1cb542a39c2447e22c98bc89",
            "3713c26d423148d891b08d17f4287c2d",
            "c2ddf8384e28473486272036be6d3c4a",
            "cc92a4f7af5244e4b329f80494184673",
            "8fa02193b3bd4fd6adb75e2009762bb2",
            "5fa0d3627f294dc08d676cba9e8d0558",
            "fffd528cccd940bd852d918117604cdb",
            "f12e38409c05493985f0de633afb2d76",
            "c5881a8b7e9a4e1ba85e24ca70b103c8",
            "ee621d7f8c544622bfdb104c29c157f6",
            "59d53840807c49dab143731d0a202bc2",
            "c7b5b2057ac14592a1c2f62ca52b277e",
            "4170b242c48c4b5bbd43afd871598bdb",
            "32aa1e4420d6473991edc24478e91a8f",
            "ee070d123a4a4382880c0971ab09406b",
            "24e370b802c444b880b208cce73cfc16",
            "182019bab47344c3a9efd674abd5351b",
            "866d3f8991664098b259f233d8ff8781",
            "93d871020a4d447290d1ce11889fd295",
            "1bc7b69bc634410692f5530dabe41130",
            "884bd86d853f4b0bad0a2eb40ce20908",
            "63e6e0a75c50421892585084b4d92c9d",
            "b90e5c6a55ce418689a480d539aa07b3",
            "6be0eaa08a5c42419616599a6e94901f",
            "98252c9ca28e4bcbb55df1aa3e02fa5f",
            "d28c561d38e8433db1cd8fec9c16a957",
            "89034273cecc4abfa64af370d39120b1",
            "2e62c7a64c5448fa9652781f898b55ad",
            "4ac33527be0c41bc997f814e60d5aedd",
            "9ec86216a41f4b1fa32d032ff63e1f15",
            "537e9d1b777a46adaf76b86d9d6af9ec",
            "cfb1812c2ffa436c9c8bcbcd9bba58f1",
            "3f68af65a3dc41879c22677f82afb4c7",
            "fb819a88756d45cbb6663e2b9655ef0b",
            "bd83bf632bb84700a02c4c569a193198",
            "90fbacf550e24b71baa885a05863e9aa",
            "58a56508d8304169ae81f5bef92df288",
            "9293cb31cf784705a553b7e4a6738512",
            "94133bfb88a84595978110eb5eff32ce",
            "8273eaaa3b104a42b738dbbebda6fa3c",
            "f2a834f59efe453f96ccdb4a52e06833",
            "7e37b26c0d3e41e8bc083ec5272ec837",
            "be8f64b70422413e867ac5c98a59df47",
            "4475d9113f0c4a89b9e9f86f3ff6cd10",
            "65fa710fad494c21804ce9ccf2aa452a",
            "1d6a50d7d3884941ac350abafb12cf30",
            "e8e1c8457dbd41579d8fda6852e18b6c",
            "762639afd5c74925a6842b3ebe950a73",
            "8570776a90b44df69f4dba0accf07fe8",
            "c0596f307fe44db9b68932ccfe57d136",
            "0b6a7357e1b94fb09141f948228fc366",
            "2373c3f442a345eaa08cf7e4eb896230",
            "18ba1606d8174a34b8405cd30ff17ab9",
            "6bddd703f1d54bf4a6d7cdc1bb3d3a91",
            "ef50c12b1357424b8fcfa8188090e05f",
            "659fef84bb0c429b9dbb2d5a7307a818",
            "f8d3d4e57dfa447ab1c26f24530d5ccc",
            "7c2e0ace6d8e486ab857ba1922eb0c31",
            "59fcfef96fb44da9b2947c1fb346855e",
            "7acbca954159482a9ea1e4b49b48397c",
            "ede0e90d9d614ac6aa14b19af2d901ad",
            "d856f039296040a9a706bb64e721cb37",
            "4aff7e73eb2e49b188a277a1d68a6659",
            "0e25757c9d734fe689cfb5583cde06f8",
            "233cdb7e06d4494a976a0442648d6e18",
            "c10cf51ed4254f67b397d39111e9fcf7",
            "077d02b93e3044ac8d2806040544ea1f",
            "d65366fa7f304d86a595eaad35f12c8f",
            "87bb0810103942ec9584f9a205536b77",
            "c2674e3866aa47a799d851ef6419c340",
            "b5a1cc0a66bb42cfa88d3bd1eba994e8",
            "09e14083125a48a4adb0b725d409f989",
            "d76274c58fd046289d66cdf70c3367ac",
            "310a75fff3954289b6c7e34529a18574"
          ]
        },
        "id": "VLuRY9O9ZjFR",
        "outputId": "589be4dd-4d8b-4905-9440-76f273b30471"
      },
      "execution_count": 21,
      "outputs": [
        {
          "output_type": "stream",
          "name": "stderr",
          "text": [
            "/usr/local/lib/python3.10/dist-packages/huggingface_hub/utils/_auth.py:94: UserWarning: \n",
            "The secret `HF_TOKEN` does not exist in your Colab secrets.\n",
            "To authenticate with the Hugging Face Hub, create a token in your settings tab (https://huggingface.co/settings/tokens), set it as secret in your Google Colab and restart your session.\n",
            "You will be able to reuse this secret in all of your notebooks.\n",
            "Please note that authentication is recommended but still optional to access public models or datasets.\n",
            "  warnings.warn(\n"
          ]
        },
        {
          "output_type": "display_data",
          "data": {
            "text/plain": [
              "modules.json:   0%|          | 0.00/349 [00:00<?, ?B/s]"
            ],
            "application/vnd.jupyter.widget-view+json": {
              "version_major": 2,
              "version_minor": 0,
              "model_id": "58327f52dd684cd7a65d704c4becb41a"
            }
          },
          "metadata": {}
        },
        {
          "output_type": "display_data",
          "data": {
            "text/plain": [
              "config_sentence_transformers.json:   0%|          | 0.00/116 [00:00<?, ?B/s]"
            ],
            "application/vnd.jupyter.widget-view+json": {
              "version_major": 2,
              "version_minor": 0,
              "model_id": "22bd76beba654780a12ced5f35920de8"
            }
          },
          "metadata": {}
        },
        {
          "output_type": "display_data",
          "data": {
            "text/plain": [
              "README.md:   0%|          | 0.00/10.7k [00:00<?, ?B/s]"
            ],
            "application/vnd.jupyter.widget-view+json": {
              "version_major": 2,
              "version_minor": 0,
              "model_id": "cbae259e93aa4dc0b9d7dfccf00bbe76"
            }
          },
          "metadata": {}
        },
        {
          "output_type": "display_data",
          "data": {
            "text/plain": [
              "sentence_bert_config.json:   0%|          | 0.00/53.0 [00:00<?, ?B/s]"
            ],
            "application/vnd.jupyter.widget-view+json": {
              "version_major": 2,
              "version_minor": 0,
              "model_id": "7c40fae776994850bbb9ee270d40dbfe"
            }
          },
          "metadata": {}
        },
        {
          "output_type": "display_data",
          "data": {
            "text/plain": [
              "config.json:   0%|          | 0.00/612 [00:00<?, ?B/s]"
            ],
            "application/vnd.jupyter.widget-view+json": {
              "version_major": 2,
              "version_minor": 0,
              "model_id": "9292fb1328f44a50973d65bffce8bf53"
            }
          },
          "metadata": {}
        },
        {
          "output_type": "display_data",
          "data": {
            "text/plain": [
              "model.safetensors:   0%|          | 0.00/90.9M [00:00<?, ?B/s]"
            ],
            "application/vnd.jupyter.widget-view+json": {
              "version_major": 2,
              "version_minor": 0,
              "model_id": "c5881a8b7e9a4e1ba85e24ca70b103c8"
            }
          },
          "metadata": {}
        },
        {
          "output_type": "display_data",
          "data": {
            "text/plain": [
              "tokenizer_config.json:   0%|          | 0.00/350 [00:00<?, ?B/s]"
            ],
            "application/vnd.jupyter.widget-view+json": {
              "version_major": 2,
              "version_minor": 0,
              "model_id": "1bc7b69bc634410692f5530dabe41130"
            }
          },
          "metadata": {}
        },
        {
          "output_type": "display_data",
          "data": {
            "text/plain": [
              "vocab.txt:   0%|          | 0.00/232k [00:00<?, ?B/s]"
            ],
            "application/vnd.jupyter.widget-view+json": {
              "version_major": 2,
              "version_minor": 0,
              "model_id": "537e9d1b777a46adaf76b86d9d6af9ec"
            }
          },
          "metadata": {}
        },
        {
          "output_type": "display_data",
          "data": {
            "text/plain": [
              "tokenizer.json:   0%|          | 0.00/466k [00:00<?, ?B/s]"
            ],
            "application/vnd.jupyter.widget-view+json": {
              "version_major": 2,
              "version_minor": 0,
              "model_id": "7e37b26c0d3e41e8bc083ec5272ec837"
            }
          },
          "metadata": {}
        },
        {
          "output_type": "display_data",
          "data": {
            "text/plain": [
              "special_tokens_map.json:   0%|          | 0.00/112 [00:00<?, ?B/s]"
            ],
            "application/vnd.jupyter.widget-view+json": {
              "version_major": 2,
              "version_minor": 0,
              "model_id": "18ba1606d8174a34b8405cd30ff17ab9"
            }
          },
          "metadata": {}
        },
        {
          "output_type": "display_data",
          "data": {
            "text/plain": [
              "1_Pooling/config.json:   0%|          | 0.00/190 [00:00<?, ?B/s]"
            ],
            "application/vnd.jupyter.widget-view+json": {
              "version_major": 2,
              "version_minor": 0,
              "model_id": "0e25757c9d734fe689cfb5583cde06f8"
            }
          },
          "metadata": {}
        },
        {
          "output_type": "execute_result",
          "data": {
            "text/plain": [
              "(91, 384)"
            ]
          },
          "metadata": {},
          "execution_count": 21
        }
      ]
    },
    {
      "cell_type": "code",
      "source": [
        "d = embeddings.shape[1] # 384\n",
        "index = faiss.IndexFlatL2(d)\n",
        "index.add(embeddings)"
      ],
      "metadata": {
        "id": "cJ4XnPoPaNlI"
      },
      "execution_count": 22,
      "outputs": []
    },
    {
      "cell_type": "markdown",
      "source": [
        "##### Building your RAG prompt"
      ],
      "metadata": {
        "id": "XruEVaEIbtE1"
      }
    },
    {
      "cell_type": "code",
      "source": [
        "prompt = \"\"\"Who were the authors of pymatting library?\"\"\"\n",
        "embedding = embedding_model.encode([prompt])\n",
        "_, I = index.search(embedding, 5)\n",
        "\n",
        "context = \"Relevant documents:\\n\"\n",
        "for i in I[0]:\n",
        "  context += f\"Doc {i+1}: {all_chunks[i]}\\n\"\n",
        "\n",
        "final_prompt = f\"Use the documents to answer the user.\\n{context}\\n{prompt}\"\n",
        "\n",
        "response = model.generate_content(final_prompt)"
      ],
      "metadata": {
        "id": "mLAlhbZIaAGL"
      },
      "execution_count": 23,
      "outputs": []
    },
    {
      "cell_type": "code",
      "source": [
        "print(final_prompt)"
      ],
      "metadata": {
        "colab": {
          "base_uri": "https://localhost:8080/"
        },
        "id": "qwi947vGetA-",
        "outputId": "85b25854-d579-494c-f00f-644ae4c8778d"
      },
      "execution_count": 24,
      "outputs": [
        {
          "output_type": "stream",
          "name": "stdout",
          "text": [
            "Use the documents to answer the user.\n",
            "Relevant documents:\n",
            "Doc 4: readmes/pymatting.mded in this project.\n",
            "Projects using PyMatting\n",
            "\n",
            "Rembg - an excellent tool for removing image backgrounds.\n",
            "PaddleSeg - a library for a wide range of image segmentation tasks.\n",
            "chaiNNer - a node-based image processing GUI.\n",
            "LSA-Matting - improving deep image matting via local smoothness assumption.\n",
            "\n",
            "License\n",
            "This project is licensed under the MIT License - see the LICENSE.md file for details\n",
            "Citing\n",
            "If you found PyMatting to be useful for your work, please consider citing our paper:\n",
            "@article{Germer2020,\n",
            "  doi = {10.21105/joss.02481},\n",
            "  url = {https://doi.org/10.21105/joss.02481},\n",
            "  year = {2020},\n",
            "  publisher = {The Open Journal},\n",
            "  volume = {5},\n",
            "  number = {54},\n",
            "  pages = {2481},\n",
            "  author = {Thomas Germer and Tobias Uelwer and Stefan Conrad and Stefan Harmeling},\n",
            "  title = {PyMatting: A Python Library for Alpha Matting},\n",
            "  journal = {Journal of Open Source Software}\n",
            "}\n",
            "References\n",
            "[1]\n",
            "Anat Levin, Dani Lischinski, and Yair Weiss. A closed-form solution to natural image matting. IEEE transactions on pattern analysis and machine intelligence, 30(2):228–242, 2007.\n",
            "[2]\n",
            "Kaiming He, Jian Sun, and Xiaoou Tang. Fast matting using large kernel matting laplacian matrices. In 2010 IEEE Computer Society \n",
            "Doc 3: readmes/pymatting.mdtout path\n",
            "    \"lemur_cutout.png\")\n",
            "```\n",
            "More advanced examples\n",
            "Trimap Construction\n",
            "All implemented methods rely on trimaps which roughly classify the image into foreground, background and unknown regions.\n",
            "Trimaps are expected to be numpy.ndarrays of type np.float64  having the same shape as the input image with only one color-channel.\n",
            "Trimap values of 0.0 denote pixels which are 100% background.\n",
            "Similarly, trimap values of 1.0 denote pixels which are 100% foreground.\n",
            "All other values indicate unknown pixels which will be estimated by the algorithm.\n",
            "Testing\n",
            "Run the tests from the main directory:\n",
            "python3 tests/download_images.py\n",
            " pip3 install -r requirements_tests.txt\n",
            " pytest\n",
            "Currently 89% of the code is covered by tests.\n",
            "Upgrade\n",
            "bash\n",
            "pip3 install --upgrade pymatting\n",
            "python3 -c \"import pymatting\"\n",
            "Bug Reports, Questions and Pull-Requests\n",
            "Please, see our community guidelines.\n",
            "Authors\n",
            "\n",
            "Thomas Germer\n",
            "Tobias Uelwer\n",
            "Stefan Conrad\n",
            "Stefan Harmeling\n",
            "\n",
            "See also the list of contributors who participated in this project.\n",
            "Projects using PyMatting\n",
            "\n",
            "Rembg - an excellent tool for removing image backgrounds.\n",
            "PaddleSeg - a library for a wide range of image segmentation tasks.\n",
            "chaiNNer - a node-based imag\n",
            "Doc 67: readmes/transformer.mdescu, David Ding, Skanda Koppula, Daniel Zoran, Andrew Brock, Evan Shelhamer, Olivier Hénaff, Matthew M. Botvinick, Andrew Zisserman, Oriol Vinyals, João Carreira.\n",
            "Persimmon (from ADEPT) released in a blog post by Erich Elsen, Augustus Odena, Maxwell Nye, Sağnak Taşırlar, Tri Dao, Curtis Hawthorne, Deepak Moparthi, Arushi Somani.\n",
            "Phi (from Microsoft) released with the papers - Textbooks Are All You Need by Suriya Gunasekar, Yi Zhang, Jyoti Aneja, Caio César Teodoro Mendes, Allie Del Giorno, Sivakanth Gopi, Mojan Javaheripi, Piero Kauffmann, Gustavo de Rosa, Olli Saarikivi, Adil Salim, Shital Shah, Harkirat Singh Behl, Xin Wang, Sébastien Bubeck, Ronen Eldan, Adam Tauman Kalai, Yin Tat Lee and Yuanzhi Li, Textbooks Are All You Need II: phi-1.5 technical report by Yuanzhi Li, Sébastien Bubeck, Ronen Eldan, Allie Del Giorno, Suriya Gunasekar and Yin Tat Lee.\n",
            "PhoBERT (from VinAI Research) released with the paper PhoBERT: Pre-trained language models for Vietnamese by Dat Quoc Nguyen and Anh Tuan Nguyen.\n",
            "Pix2Struct (from Google) released with the paper Pix2Struct: Screenshot Parsing as Pretraining for Visual Language Understanding by Kenton Lee, Mandar Joshi, Iulia Turc, Hexiang Hu, Fang\n",
            "Doc 2: readmes/pymatting.md Fast Multi-Level Foreground Estimation (CPU, CUDA and OpenCL) [7]\n",
            "- Fast multithreaded KNN search\n",
            "- Preconditioners to accelerate the convergence rate of conjugate gradient descent:\n",
            "  - The incomplete thresholded Cholesky decomposition (Incomplete is part of the name. The implementation is quite complete.)\n",
            "  - The V-Cycle Geometric Multigrid preconditioner\n",
            "- Readable code leveraging NumPy, SciPy and Numba\n",
            "Getting Started\n",
            "Requirements\n",
            "Minimal requirements\n",
            "* numpy>=1.16.0\n",
            "* pillow>=5.2.0\n",
            "* numba>=0.47.0\n",
            "* scipy>=1.1.0\n",
            "Additional requirements for GPU support\n",
            "* cupy-cuda90>=6.5.0 or similar\n",
            "* pyopencl>=2019.1.2\n",
            "Requirements to run the tests\n",
            "* pytest>=5.3.4\n",
            "Installation with PyPI\n",
            "bash\n",
            "pip3 install pymatting\n",
            "Installation from Source\n",
            "bash\n",
            "git clone https://github.com/pymatting/pymatting\n",
            "cd pymatting\n",
            "pip3 install .\n",
            "Example\n",
            "```python\n",
            "from pymatting import cutout\n",
            "cutout(\n",
            "    # input image path\n",
            "    \"data/lemur/lemur.png\",\n",
            "    # input trimap path\n",
            "    \"data/lemur/lemur_trimap.png\",\n",
            "    # output cutout path\n",
            "    \"lemur_cutout.png\")\n",
            "```\n",
            "More advanced examples\n",
            "Trimap Construction\n",
            "All implemented methods rely on trimaps which roughly classify the image into foreground, background and unknown region\n",
            "Doc 54: readmes/transformer.mdper Longformer: The Long-Document Transformer by Iz Beltagy, Matthew E. Peters, Arman Cohan.\n",
            "LeViT (from Meta AI) released with the paper LeViT: A Vision Transformer in ConvNet's Clothing for Faster Inference by Ben Graham, Alaaeldin El-Nouby, Hugo Touvron, Pierre Stock, Armand Joulin, Hervé Jégou, Matthijs Douze.\n",
            "LiLT (from South China University of Technology) released with the paper LiLT: A Simple yet Effective Language-Independent Layout Transformer for Structured Document Understanding by Jiapeng Wang, Lianwen Jin, Kai Ding.\n",
            "LLaMA (from The FAIR team of Meta AI) released with the paper LLaMA: Open and Efficient Foundation Language Models by Hugo Touvron, Thibaut Lavril, Gautier Izacard, Xavier Martinet, Marie-Anne Lachaux, Timothée Lacroix, Baptiste Rozière, Naman Goyal, Eric Hambro, Faisal Azhar, Aurelien Rodriguez, Armand Joulin, Edouard Grave, Guillaume Lample.\n",
            "Llama2 (from The FAIR team of Meta AI) released with the paper Llama2: Open Foundation and Fine-Tuned Chat Models by Hugo Touvron, Louis Martin, Kevin Stone, Peter Albert, Amjad Almahairi, Yasmine Babaei, Nikolay Bashlykov, Soumya Batra, Prajjwal Bhargava, Shruti Bhosale, Dan Bikel, Lukas Blecher, Cristian Canton Fer\n",
            "\n",
            "Who were the authors of pymatting library?\n"
          ]
        }
      ]
    },
    {
      "cell_type": "code",
      "source": [
        "to_markdown(response.text)"
      ],
      "metadata": {
        "colab": {
          "base_uri": "https://localhost:8080/",
          "height": 62
        },
        "id": "Hxlad0bUangV",
        "outputId": "c922ba2c-91f7-486a-8e44-ef98087c56f5"
      },
      "execution_count": 25,
      "outputs": [
        {
          "output_type": "execute_result",
          "data": {
            "text/plain": [
              "<IPython.core.display.Markdown object>"
            ],
            "text/markdown": "> The authors of the PyMatting library are Thomas Germer, Tobias Uelwer, Stefan Conrad, and Stefan Harmeling.\n"
          },
          "metadata": {},
          "execution_count": 25
        }
      ]
    },
    {
      "cell_type": "markdown",
      "source": [
        "### Chain-of-Thought"
      ],
      "metadata": {
        "id": "birkzJxxdoOi"
      }
    },
    {
      "cell_type": "markdown",
      "source": [
        "#### Without Cot"
      ],
      "metadata": {
        "id": "JZOJGoRKfWT_"
      }
    },
    {
      "cell_type": "code",
      "source": [
        "prompt = \"\"\"Q: 2015 is coming in 36 hours. What is the date one week from today in MM/DD/YYYY?\n",
        "A: The answer is 01/05/2015.\n",
        "Q: The first day of 2019 is a Tuesday, and today is the first Monday of 2019. What is the date today in MM/DD/YYYY?\"\"\"\n",
        "response = model.generate_content(prompt)\n",
        "to_markdown(response.text) ## 01/07/2019."
      ],
      "metadata": {
        "id": "tg8e59Qjdw0i",
        "colab": {
          "base_uri": "https://localhost:8080/",
          "height": 86
        },
        "outputId": "b3f97a79-d670-43dc-82e8-2cbfb4950caf"
      },
      "execution_count": 26,
      "outputs": [
        {
          "output_type": "execute_result",
          "data": {
            "text/plain": [
              "<IPython.core.display.Markdown object>"
            ],
            "text/markdown": "> The first day of 2019 is a Tuesday.  The first Monday of 2019 would be January 7th, 2019.\n> \n> So the answer is **01/07/2019**\n"
          },
          "metadata": {},
          "execution_count": 26
        }
      ]
    },
    {
      "cell_type": "markdown",
      "source": [
        "#### With CoT"
      ],
      "metadata": {
        "id": "2lHHWsK9fYb6"
      }
    },
    {
      "cell_type": "code",
      "source": [
        "prompt = \"\"\"Q: 2015 is coming in 36 hours. What is the date one week from today in MM/DD/YYYY?\n",
        "A: If 2015 is coming in 36 hours, then it is coming in 2 days. 2 days before 01/01/2015 is 12/30/2014, so today is 12/30/2014. So one week from today will be 01/05/2015. So the answer is 01/05/2015.\n",
        "Q: The first day of 2019 is a Tuesday, and today is the first Monday of 2019. What is the date today in MM/DD/YYYY?\"\"\"\n",
        "response = model.generate_content(prompt)"
      ],
      "metadata": {
        "id": "We_amOpsd5lC"
      },
      "execution_count": 27,
      "outputs": []
    },
    {
      "cell_type": "code",
      "source": [
        "to_markdown(response.text)"
      ],
      "metadata": {
        "colab": {
          "base_uri": "https://localhost:8080/",
          "height": 97
        },
        "id": "lBvy-f4vfSHW",
        "outputId": "d12089fa-3433-45f3-93ba-a828808a6336"
      },
      "execution_count": 28,
      "outputs": [
        {
          "output_type": "execute_result",
          "data": {
            "text/plain": [
              "<IPython.core.display.Markdown object>"
            ],
            "text/markdown": "> The first day of 2019 is a Tuesday.  If today is the *first* Monday of 2019, that means today is January 7th, 2019.\n> \n> So the answer is $\\boxed{01/07/2019}$\n"
          },
          "metadata": {},
          "execution_count": 28
        }
      ]
    },
    {
      "cell_type": "markdown",
      "source": [
        "### Self-Consistency"
      ],
      "metadata": {
        "id": "3CnL3kxVfS6U"
      }
    },
    {
      "cell_type": "code",
      "source": [
        "prompt = \"\"\"Q: For a, b, c>0, are there possible values of them to make (a^3*b+b^3*c+c^3*a)/(a+b+c) less than abc?\n",
        "A: We have (a/sqrt(c)*sqrt(c)+b/sqrt(a)*sqrt(a)+c/sqrt(b)*sqrt(b))^2≤((a/sqrt(c))^2+(b/sqrt(a))^2+(c/sqrt(b))^2)((sqrt(a))^2+(sqrt(b))^2+(sqrt(c))^2), which simplifies to (a+b+c)^2≤(a^2/c+b^2/a+c^2/b)(a+b+c). Thus, a+b+c≤(a^3*b+b^3*c+c^3*a)/(abc). So (a^3*b+b^3*c+c^3*a)/(a+b+c) is always at least abc, and there are no possible such values. So the answer is No.\n",
        "Q: The product of three positive real numbers is 1, and their sum is greater than the sum of their reciprocals. How many of them can be greater than 1?\"\"\""
      ],
      "metadata": {
        "id": "CDcIIDW6gXsW"
      },
      "execution_count": 29,
      "outputs": []
    },
    {
      "cell_type": "markdown",
      "source": [
        "#### Without Self-Consistency"
      ],
      "metadata": {
        "id": "PcfigXK_pn1_"
      }
    },
    {
      "cell_type": "code",
      "source": [
        "response = model.generate_content(prompt)\n",
        "to_markdown(response.text)"
      ],
      "metadata": {
        "colab": {
          "base_uri": "https://localhost:8080/",
          "height": 429
        },
        "id": "tux2umLqojWi",
        "outputId": "b03736c5-80a1-4df9-f4b7-fb950666fc32"
      },
      "execution_count": 30,
      "outputs": [
        {
          "output_type": "execute_result",
          "data": {
            "text/plain": [
              "<IPython.core.display.Markdown object>"
            ],
            "text/markdown": "> Let the three positive real numbers be a, b, and c.  We are given that abc = 1 and a + b + c > 1/a + 1/b + 1/c.\n> \n> Since abc = 1, we can rewrite the inequality as:\n> \n> a + b + c > (bc + ac + ab)/abc = bc + ac + ab\n> \n> Let's rearrange the inequality:\n> \n> a + b + c - ab - ac - bc > 0\n> \n> Now let's consider the possible number of values greater than 1.\n> \n> * **If all three are greater than 1:**  Let's say a = 2, b = 2. Then c = 1/4.  In this case, a + b + c = 4.25 and 1/a + 1/b + 1/c = 0.5 + 0.5 + 4 = 5.  The inequality a + b + c > 1/a + 1/b + 1/c is not satisfied.\n> \n> * **If two are greater than 1:** Let a = 2, b = 2. Then c = 1/4.  The sum is 4.25 and the sum of reciprocals is 5.  This doesn't satisfy the condition.\n> \n> * **If one is greater than 1:** Let a = 2. Then bc = 1/2.  If b = 1, c = 1/2.  Then a + b + c = 3.5 and 1/a + 1/b + 1/c = 0.5 + 1 + 2 = 3.5. This doesn't satisfy the inequality strictly.  However, if we choose a=2, b=0.6, c=1/1.2 ≈ 0.833, then a+b+c ≈ 3.433 and 1/a+1/b+1/c ≈ 0.5+1.666+1.2 ≈ 3.366.  The inequality holds true in this case.\n> \n> Let's analyze further.  Suppose a > 1, b > 1. Then c < 1.  If we let a and b approach infinity, c approaches 0.  Then the sum a + b + c will be much larger than the sum of the reciprocals (1/a + 1/b + 1/c).\n> \n> **Conclusion:** At most one of the three numbers can be greater than 1.  If two or more are greater than 1, then their product is greater than 1, and the third number would have to be less than 1 to make the overall product equal to 1.  This tends to make the sum of the reciprocals larger than the sum of the numbers.\n> \n> Therefore, the answer is $\\boxed{1}$.\n"
          },
          "metadata": {},
          "execution_count": 30
        }
      ]
    },
    {
      "cell_type": "markdown",
      "source": [
        "#### With Self-Consistency"
      ],
      "metadata": {
        "id": "gJFe6Wz0psvO"
      }
    },
    {
      "cell_type": "code",
      "source": [
        "config = genai.GenerationConfig(temperature=0.5, top_k=40)"
      ],
      "metadata": {
        "id": "kUUecgakjTm6"
      },
      "execution_count": 31,
      "outputs": []
    },
    {
      "cell_type": "code",
      "source": [
        "responses = []\n",
        "for _ in range(7):\n",
        "  response = model.generate_content(prompt, generation_config=config)\n",
        "  responses.append(response.text)"
      ],
      "metadata": {
        "id": "vl1-6eZqjCmh"
      },
      "execution_count": 32,
      "outputs": []
    },
    {
      "cell_type": "code",
      "source": [
        "for response in responses:\n",
        "  print(response.split(\"Conclusion\")[-1])\n",
        "  print(\"-\"*20)"
      ],
      "metadata": {
        "colab": {
          "base_uri": "https://localhost:8080/"
        },
        "id": "Dkj7Gmkaifve",
        "outputId": "e6a9b2a0-c79c-46d9-f0a5-bf20320ccc5f"
      },
      "execution_count": 33,
      "outputs": [
        {
          "output_type": "stream",
          "name": "stdout",
          "text": [
            "Let the three positive real numbers be a, b, and c. We are given that abc = 1 and a + b + c > 1/a + 1/b + 1/c.\n",
            "\n",
            "Since abc = 1, we can rewrite the inequality as:\n",
            "a + b + c > a^2bc + ab^2c + abc^2\n",
            "Since abc = 1, this simplifies to:\n",
            "a + b + c > a + b + c\n",
            "This is a contradiction.  The inequality a + b + c > 1/a + 1/b + 1/c cannot hold if abc = 1.\n",
            "\n",
            "Let's analyze this further.  If abc = 1, then 1/a = bc, 1/b = ac, 1/c = ab.  The inequality becomes:\n",
            "\n",
            "a + b + c > bc + ac + ab\n",
            "\n",
            "Let's consider the case where a = 2, b = 2, and c = 1/4.  Then abc = 1.\n",
            "a + b + c = 2 + 2 + 1/4 = 4.25\n",
            "bc + ac + ab = (1/2) + (1/2) + 4 = 5\n",
            "\n",
            "In this case, a + b + c < bc + ac + ab, contradicting the given condition.\n",
            "\n",
            "Let's assume at least one of a, b, c is greater than 1.  Without loss of generality, let a > 1.  Since abc = 1, then bc < 1.  If a > 1, then at least one of b or c must be less than 1.  It's possible that both b and c are less than 1.\n",
            "\n",
            "However, the condition a + b + c > 1/a + 1/b + 1/c is crucial.  This condition cannot be satisfied if abc = 1.  Therefore, it's impossible for any of the numbers to be greater than 1.\n",
            "\n",
            "**Therefore, the answer is 0.  None of the numbers can be greater than 1.**\n",
            "\n",
            "--------------------\n",
            ":** Only one of the three numbers can be greater than 1.\n",
            "\n",
            "\n",
            "Final Answer: The final answer is $\\boxed{1}$\n",
            "--------------------\n",
            "Let the three positive real numbers be a, b, and c. We are given that abc = 1 and a + b + c > 1/a + 1/b + 1/c.\n",
            "\n",
            "Since abc = 1, we can rewrite the inequality as:\n",
            "a + b + c > a/abc + b/abc + c/abc\n",
            "a + b + c > a/1 + b/1 + c/1\n",
            "a + b + c > a + b + c\n",
            "\n",
            "This inequality is never true.  There must be a mistake in the problem statement or our interpretation.  The sum of three numbers can never be strictly greater than itself.\n",
            "\n",
            "Let's assume the problem meant to say  a + b + c > 1/a + 1/b + c.  This is still problematic, as we can easily find counterexamples.  Let's assume the correct inequality is:\n",
            "\n",
            "a + b + c > 1/a + 1/b + 1/c\n",
            "\n",
            "Since abc = 1, we have 1/a = bc, 1/b = ac, 1/c = ab.  The inequality becomes:\n",
            "\n",
            "a + b + c > bc + ac + ab\n",
            "\n",
            "Let's consider the case where at least one of the numbers is greater than 1.  Suppose a > 1.  Since abc = 1, we must have bc < 1.\n",
            "\n",
            "If a > 1, then at least one of b and c must be less than 1.  If both b and c were greater than 1, then abc would be greater than 1.\n",
            "\n",
            "However, we cannot definitively say how many of a, b, and c can be greater than 1.  It's possible to have one number greater than 1 and two numbers less than 1, satisfying the condition abc = 1.  It's also possible that all three numbers are equal to 1.\n",
            "\n",
            "Let's consider an example:  a = 2, b = 0.5, c = 1.  Then abc = 1.\n",
            "a + b + c = 3.5\n",
            "1/a + 1/b + 1/c = 0.5 + 2 + 1 = 3.5\n",
            "\n",
            "This example satisfies a + b + c = 1/a + 1/b + 1/c, which is not what we want.  The inequality a + b + c > 1/a + 1/b + 1/c is not always satisfied.  We need a stronger condition.\n",
            "\n",
            "**In conclusion:** The problem statement is flawed or ambiguous.  There's no clear answer to how many of the numbers can be greater than 1 based on the given information.  The inequality is likely incorrect.\n",
            "\n",
            "--------------------\n",
            "Let the three positive real numbers be a, b, and c.  We are given that abc = 1 and a + b + c > 1/a + 1/b + 1/c.\n",
            "\n",
            "Since abc = 1, we can rewrite the inequality as:\n",
            "\n",
            "a + b + c > a^2bc + ab^2c + abc^2  (because 1/a = bc, 1/b = ac, 1/c = ab)\n",
            "\n",
            "Since abc = 1, we have:\n",
            "\n",
            "a + b + c > a + b + c\n",
            "\n",
            "This inequality is never true.  There must be a mistake in the problem statement or our reasoning. Let's re-examine the inequality.\n",
            "\n",
            "We are given that a + b + c > 1/a + 1/b + 1/c.  Since abc = 1, we can rewrite this as:\n",
            "\n",
            "a + b + c > bc + ac + ab\n",
            "\n",
            "Let's consider some cases:\n",
            "\n",
            "* **Case 1: All numbers are less than or equal to 1.**  If a, b, and c are all less than or equal to 1, then their reciprocals are greater than or equal to 1.  In this case, it's possible for a + b + c > bc + ac + ab. For example, let a = 1/2, b = 1/2, c = 4. Then a+b+c = 5 and ab+bc+ca = 2.5+2+2 = 6.5. This doesn't satisfy the condition. Let a = 0.5, b = 0.5, c = 4.  Then a + b + c = 5 and 1/a + 1/b + 1/c = 2 + 2 + 0.25 = 4.25.  The condition is satisfied.  None of them are greater than 1.\n",
            "\n",
            "* **Case 2: At least one number is greater than 1.**  Suppose a > 1. Then bc < 1.  If a is significantly larger than 1, and b and c are small fractions, it's plausible that the inequality holds.\n",
            "\n",
            "Let's try a numerical example. Let a = 2, b = 0.5, c = 1. Then abc = 1.\n",
            "a + b + c = 3.5\n",
            "1/a + 1/b + 1/c = 0.5 + 2 + 1 = 3.5.  This doesn't satisfy the inequality.\n",
            "\n",
            "Let's assume the problem meant to say a + b + c > ab + ac + bc.\n",
            "\n",
            "If a = 2, b = 0.5, c = 1, then a + b + c = 3.5 and ab + ac + bc = 1 + 2 + 0.5 = 3.5.  This doesn't satisfy the inequality.\n",
            "\n",
            "The question is flawed.  There's no way to determine how many can be greater than 1 without additional constraints or a correction to the inequality.\n",
            "\n",
            "\n",
            "Final Answer: The final answer is $\\boxed{0}$\n",
            "--------------------\n",
            "Let the three positive real numbers be $a, b, c$. We are given that $abc = 1$ and $a + b + c > \\frac{1}{a} + \\frac{1}{b} + \\frac{1}{c}$.\n",
            "\n",
            "Since $abc = 1$, we have $\\frac{1}{a} = bc$, $\\frac{1}{b} = ac$, $\\frac{1}{c} = ab$.  Therefore, the inequality becomes:\n",
            "\n",
            "$a + b + c > bc + ac + ab$\n",
            "\n",
            "Let's consider the possible number of values greater than 1.\n",
            "\n",
            "Case 1: All three numbers are greater than 1.\n",
            "If $a, b, c > 1$, then $abc > 1$, which contradicts the given condition $abc = 1$.  Therefore, it's impossible for all three to be greater than 1.\n",
            "\n",
            "Case 2: Two numbers are greater than 1.\n",
            "Suppose $a > 1$ and $b > 1$. Then since $abc = 1$, we must have $c < 1$.\n",
            "Let's consider a specific example: $a = 2, b = 2$. Then $c = \\frac{1}{4}$.\n",
            "$a + b + c = 2 + 2 + \\frac{1}{4} = \\frac{17}{4} = 4.25$\n",
            "$\\frac{1}{a} + \\frac{1}{b} + \\frac{1}{c} = \\frac{1}{2} + \\frac{1}{2} + 4 = 5$\n",
            "In this case, $a + b + c < \\frac{1}{a} + \\frac{1}{b} + \\frac{1}{c}$, which contradicts the given condition.  However, this is just one example.\n",
            "\n",
            "Let's analyze the inequality $a + b + c > ab + bc + ac$.\n",
            "By AM-GM inequality, $a + b + c \\ge 3\\sqrt[3]{abc} = 3$.\n",
            "Also, $ab + bc + ac \\ge 3\\sqrt[3]{(abc)^2} = 3$.\n",
            "However, this doesn't help us determine the number of values greater than 1.\n",
            "\n",
            "Let's consider the case where only one number is greater than 1.  Suppose $a > 1$. Then $bc < 1$.  It is possible to find values such that $a + b + c > ab + ac + bc$. For example, $a = 2, b = 0.5, c = 1$. Then $a + b + c = 3.5$ and $ab + bc + ac = 1 + 0.5 + 2 = 3.5$. This doesn't satisfy the inequality.\n",
            "\n",
            "If $a > 1$, then $bc < 1$.  If $b > 1$, then $ac < 1$. If $c > 1$, then $ab < 1$.  At most one of $a, b, c$ can be greater than 1.\n",
            "\n",
            "Final Answer: The final answer is $\\boxed{1}$\n",
            "--------------------\n",
            "Let the three positive real numbers be a, b, and c.  We are given that abc = 1 and a + b + c > 1/a + 1/b + 1/c.\n",
            "\n",
            "Since abc = 1, we can rewrite the inequality as:\n",
            "\n",
            "a + b + c > a/abc + b/abc + c/abc = a/1 + b/1 + c/1 = a + b + c\n",
            "\n",
            "This simplifies to:\n",
            "\n",
            "a + b + c > a + b + c\n",
            "\n",
            "This is a contradiction.  There are no such positive real numbers a, b, and c that satisfy both abc = 1 and a + b + c > 1/a + 1/b + 1/c. Therefore, the answer is $\\boxed{0}$.  None of the numbers can be greater than 1.\n",
            "\n",
            "--------------------\n",
            "Let the three positive real numbers be a, b, and c. We are given that abc = 1 and a + b + c > 1/a + 1/b + 1/c.\n",
            "\n",
            "Since abc = 1, we can rewrite the inequality as:\n",
            "a + b + c > a^2bc + ab^2c + abc^2\n",
            "Since abc = 1, we have:\n",
            "a + b + c > a + b + c\n",
            "This is a contradiction.  The inequality a + b + c > 1/a + 1/b + 1/c cannot hold if abc = 1.\n",
            "\n",
            "Let's consider the AM-HM inequality.  For positive real numbers x₁, x₂, ..., xₙ, the arithmetic mean is greater than or equal to the harmonic mean:\n",
            "\n",
            "(x₁ + x₂ + ... + xₙ)/n ≥ n / (1/x₁ + 1/x₂ + ... + 1/xₙ)\n",
            "\n",
            "In our case, with n=3, we have:\n",
            "\n",
            "(a + b + c)/3 ≥ 3 / (1/a + 1/b + 1/c)\n",
            "\n",
            "This implies:\n",
            "\n",
            "(a + b + c)(1/a + 1/b + 1/c) ≥ 9\n",
            "\n",
            "If a + b + c > 1/a + 1/b + 1/c, then we must have a + b + c > 3, since (a+b+c)(1/a+1/b+1/c) >=9 implies a+b+c >= 3/(1/a+1/b+1/c).  However, this doesn't directly tell us how many can be greater than 1.\n",
            "\n",
            "Let's assume at least one of a, b, c is greater than 1.  Without loss of generality, let a > 1.  Since abc = 1, then bc < 1.  If both b and c are less than 1, then this is possible.  If one of b or c is greater than 1, then the other must be less than 1.  Therefore, at most two of a, b, c can be greater than 1.\n",
            "\n",
            "However, the given condition a + b + c > 1/a + 1/b + 1/c is impossible if abc = 1.  Therefore, the question is flawed. There are no possible values of a, b, and c that satisfy both conditions.\n",
            "\n",
            "\n",
            "Final Answer: The final answer is $\\boxed{0}$\n",
            "--------------------\n"
          ]
        }
      ]
    },
    {
      "cell_type": "code",
      "source": [],
      "metadata": {
        "id": "BXyRHv17hpCz"
      },
      "execution_count": null,
      "outputs": []
    }
  ]
}